{
 "cells": [
  {
   "cell_type": "markdown",
   "source": [
    "Les imports pour le projet :"
   ],
   "metadata": {
    "collapsed": false,
    "pycharm": {
     "name": "#%% md\n"
    }
   }
  },
  {
   "cell_type": "code",
   "execution_count": 38,
   "outputs": [],
   "source": [
    "import collections\n",
    "import csv\n",
    "import sys\n",
    "import time\n",
    "from selenium import webdriver\n",
    "from selenium.common.exceptions import NoSuchElementException\n",
    "from selenium.webdriver.common.keys import Keys\n",
    "from selenium.webdriver.support.ui import Select\n",
    "from selenium.webdriver import ActionChains\n",
    "from selenium.webdriver.common.by import By\n",
    "from selenium.webdriver.support.ui import WebDriverWait\n",
    "from selenium.webdriver.support import expected_conditions as EC\n",
    "from selenium.webdriver.chrome.options import Options\n",
    "from selenium.webdriver.chrome.service import Service\n",
    "from webdriver_manager.chrome import ChromeDriverManager\n",
    "from selenium.webdriver.common.by import By\n",
    "import requests\n",
    "from bs4 import BeautifulSoup\n",
    "import pandas as pd"
   ],
   "metadata": {
    "collapsed": false,
    "pycharm": {
     "name": "#%%\n"
    }
   }
  },
  {
   "cell_type": "markdown",
   "source": [
    "Les set-up pour Selenium :"
   ],
   "metadata": {
    "collapsed": false,
    "pycharm": {
     "name": "#%% md\n"
    }
   }
  },
  {
   "cell_type": "code",
   "execution_count": 39,
   "outputs": [],
   "source": [
    "driver_path = ChromeDriverManager().install()\n",
    "prefs = {'profile.default_content_setting_values': {'images': 2, 'javascript': 2}}\n",
    "options = Options()\n",
    "options.binary_location = r'C:/Program Files/Google/Chrome/Application/chrome.exe'\n",
    "service = Service(executable_path=driver_path)\n",
    "options = webdriver.ChromeOptions()\n",
    "options.add_argument('-headless')\n",
    "options.add_argument('-no-sandbox')\n",
    "options.add_argument('-disable-dev-shm-usage')\n",
    "options.add_argument(\"enable-automation\")\n",
    "options.add_argument(\"--window-size=1920,1080\")\n",
    "options.add_argument(\"--disable-extensions\")\n",
    "options.add_argument(\"--dns-prefetch-disable\")\n",
    "options.add_argument(\"--disable-gpu\")\n",
    "options.add_experimental_option('prefs', prefs)\n",
    "driver =webdriver.Chrome(options = options, service=service)"
   ],
   "metadata": {
    "collapsed": false,
    "pycharm": {
     "name": "#%%\n"
    }
   }
  },
  {
   "cell_type": "markdown",
   "source": [
    "Ici j'ai d'abord utilisé beautiful soup pour scrap les noms des produits, j'ai voulu répéter le processus sur les prix mais je ne trouvais pas comment faire. J'ai donc décidé d'utiliser Selenium pour faire cela.\n",
    "\n",
    "Dans ce bloc je combine les deux méthodes pour optimiser les performances (BS étant beaucoup plus rapide que Selenium)\n",
    "\n",
    "Ici je travaille que sur la première page de Shein Homme pour tester mon algo."
   ],
   "metadata": {
    "collapsed": false,
    "pycharm": {
     "name": "#%% md\n"
    }
   }
  },
  {
   "cell_type": "code",
   "execution_count": 68,
   "outputs": [
    {
     "data": {
      "text/plain": "                                               Nom   Prix\n0      Homme T-shirt à lettres à blocs de couleurs   9.49\n1                 Homme Chemise unicolore à bouton  13.99\n2          SHEIN Homme T-shirt graphique de slogan   9.49\n3                    Homme Polo à blocs de couleur  13.99\n4             SHEIN Homme T-shirt slogan et floral   9.49\n..                                             ...    ...\n115                        Homme T-shirt à lettres   9.99\n116             Polo avec blocs de couleurs et zip  13.99\n117          Homme T-shirt à lettres à col montant   9.99\n118  SHEIN Homme Chemise à imprimé floral à bouton  15.99\n119    Homme T-shirt à blocs de couleurs à lettres   7.99\n\n[120 rows x 2 columns]",
      "text/html": "<div>\n<style scoped>\n    .dataframe tbody tr th:only-of-type {\n        vertical-align: middle;\n    }\n\n    .dataframe tbody tr th {\n        vertical-align: top;\n    }\n\n    .dataframe thead th {\n        text-align: right;\n    }\n</style>\n<table border=\"1\" class=\"dataframe\">\n  <thead>\n    <tr style=\"text-align: right;\">\n      <th></th>\n      <th>Nom</th>\n      <th>Prix</th>\n    </tr>\n  </thead>\n  <tbody>\n    <tr>\n      <th>0</th>\n      <td>Homme T-shirt à lettres à blocs de couleurs</td>\n      <td>9.49</td>\n    </tr>\n    <tr>\n      <th>1</th>\n      <td>Homme Chemise unicolore à bouton</td>\n      <td>13.99</td>\n    </tr>\n    <tr>\n      <th>2</th>\n      <td>SHEIN Homme T-shirt graphique de slogan</td>\n      <td>9.49</td>\n    </tr>\n    <tr>\n      <th>3</th>\n      <td>Homme Polo à blocs de couleur</td>\n      <td>13.99</td>\n    </tr>\n    <tr>\n      <th>4</th>\n      <td>SHEIN Homme T-shirt slogan et floral</td>\n      <td>9.49</td>\n    </tr>\n    <tr>\n      <th>...</th>\n      <td>...</td>\n      <td>...</td>\n    </tr>\n    <tr>\n      <th>115</th>\n      <td>Homme T-shirt à lettres</td>\n      <td>9.99</td>\n    </tr>\n    <tr>\n      <th>116</th>\n      <td>Polo avec blocs de couleurs et zip</td>\n      <td>13.99</td>\n    </tr>\n    <tr>\n      <th>117</th>\n      <td>Homme T-shirt à lettres à col montant</td>\n      <td>9.99</td>\n    </tr>\n    <tr>\n      <th>118</th>\n      <td>SHEIN Homme Chemise à imprimé floral à bouton</td>\n      <td>15.99</td>\n    </tr>\n    <tr>\n      <th>119</th>\n      <td>Homme T-shirt à blocs de couleurs à lettres</td>\n      <td>7.99</td>\n    </tr>\n  </tbody>\n</table>\n<p>120 rows × 2 columns</p>\n</div>"
     },
     "execution_count": 68,
     "metadata": {},
     "output_type": "execute_result"
    }
   ],
   "source": [
    "df = pd.DataFrame(columns=['Nom'])\n",
    "temp = []\n",
    "\n",
    "# URL du site à scraper\n",
    "url = \"https://fr.shein.com/Men-Clothing-c-2026.html?ici=fr_tab06navbar04&scici=navbar_MenHomePage~~tab06navbar04~~4~~real_2026~~~~0&src_module=topcat&src_tab_page_id=page_home1673351679865&src_identifier=fc%3DMen%60sc%3DV%C3%8ATEMENTS%60tc%3D0%60oc%3D0%60ps%3Dtab06navbar04%60jc%3Dreal_2026&srctype=category&userpath=category-V%C3%8ATEMENTS&child_cat_id=1970\"\n",
    "\n",
    "# Récupérer le contenu de la page\n",
    "page = requests.get(url)\n",
    "\n",
    "# Analyser le contenu de la page avec BeautifulSoup\n",
    "soup = BeautifulSoup(page.content, 'html.parser')\n",
    "\n",
    "# Initialiser une liste vide pour stocker les noms de produits\n",
    "product_names = []\n",
    "\n",
    "# Trouver tous les éléments qui contiennent les noms des produits\n",
    "product_name_elements = soup.find_all('a', class_='S-product-item__link_jump')\n",
    "\n",
    "# Pour chaque élément contenant le nom d'un produit, extraire le nom du produit\n",
    "for element in product_name_elements:\n",
    "    product_name = element['aria-label']\n",
    "    temp.append(product_name)\n",
    "\n",
    "driver = webdriver.Chrome()\n",
    "\n",
    "# Ouvrir la page web\n",
    "driver.get(\"https://fr.shein.com/Men-Clothing-c-2026.html?ici=fr_tab06navbar04&scici=navbar_MenHomePage~~tab06navbar04~~4~~real_2026~~~~0&src_module=topcat&src_tab_page_id=page_home1673351679865&src_identifier=fc%3DMen%60sc%3DV%C3%8ATEMENTS%60tc%3D0%60oc%3D0%60ps%3Dtab06navbar04%60jc%3Dreal_2026&srctype=category&userpath=category-V%C3%8ATEMENTS&child_cat_id=1970\")\n",
    "\n",
    "try:\n",
    "    element = WebDriverWait(driver, 10).until(EC.presence_of_element_located((By.CSS_SELECTOR, \"span.normal-price-ctn__sale-price\")))\n",
    "finally:\n",
    "    product_price_elements = driver.find_elements(By.CSS_SELECTOR, \"span.normal-price-ctn__sale-price\")\n",
    "    product_prices = [float(elem.get_attribute('aria-label').replace(\"Prix\", \"\").replace(\"€\", \"\")) for elem in product_price_elements]\n",
    "\n",
    "df = pd.DataFrame(list(zip(temp, product_prices)), columns=['Nom','Prix'])\n",
    "driver.quit()\n",
    "\n",
    "df"
   ],
   "metadata": {
    "collapsed": false,
    "pycharm": {
     "name": "#%%\n"
    }
   }
  },
  {
   "cell_type": "markdown",
   "source": [
    "Dans le bloc suivant j'utilise Selenium pour retrouver à la fois le nom du produit et le prix associé"
   ],
   "metadata": {
    "collapsed": false,
    "pycharm": {
     "name": "#%% md\n"
    }
   }
  },
  {
   "cell_type": "code",
   "execution_count": 69,
   "outputs": [
    {
     "data": {
      "text/plain": "                                                   Nom   Prix\n0          Homme T-shirt à lettres à blocs de couleurs   9.49\n1                     Homme Chemise unicolore à bouton  13.99\n2              SHEIN Homme T-shirt graphique de slogan   9.49\n3                        Homme Polo à blocs de couleur  13.99\n4                 SHEIN Homme T-shirt slogan et floral   9.49\n..                                                 ...    ...\n115  Homme Chemise à applique lettre en velours côt...  23.49\n116  Homme Polo à applique lettre poche à rabat à c...  14.99\n117  Homme T-shirt réfléchissant fleuri à motif lettre  10.99\n118  Extended Sizes Homme Chemise col à revers à bo...  17.49\n119                            Homme T-shirt à lettres   9.49\n\n[120 rows x 2 columns]",
      "text/html": "<div>\n<style scoped>\n    .dataframe tbody tr th:only-of-type {\n        vertical-align: middle;\n    }\n\n    .dataframe tbody tr th {\n        vertical-align: top;\n    }\n\n    .dataframe thead th {\n        text-align: right;\n    }\n</style>\n<table border=\"1\" class=\"dataframe\">\n  <thead>\n    <tr style=\"text-align: right;\">\n      <th></th>\n      <th>Nom</th>\n      <th>Prix</th>\n    </tr>\n  </thead>\n  <tbody>\n    <tr>\n      <th>0</th>\n      <td>Homme T-shirt à lettres à blocs de couleurs</td>\n      <td>9.49</td>\n    </tr>\n    <tr>\n      <th>1</th>\n      <td>Homme Chemise unicolore à bouton</td>\n      <td>13.99</td>\n    </tr>\n    <tr>\n      <th>2</th>\n      <td>SHEIN Homme T-shirt graphique de slogan</td>\n      <td>9.49</td>\n    </tr>\n    <tr>\n      <th>3</th>\n      <td>Homme Polo à blocs de couleur</td>\n      <td>13.99</td>\n    </tr>\n    <tr>\n      <th>4</th>\n      <td>SHEIN Homme T-shirt slogan et floral</td>\n      <td>9.49</td>\n    </tr>\n    <tr>\n      <th>...</th>\n      <td>...</td>\n      <td>...</td>\n    </tr>\n    <tr>\n      <th>115</th>\n      <td>Homme Chemise à applique lettre en velours côt...</td>\n      <td>23.49</td>\n    </tr>\n    <tr>\n      <th>116</th>\n      <td>Homme Polo à applique lettre poche à rabat à c...</td>\n      <td>14.99</td>\n    </tr>\n    <tr>\n      <th>117</th>\n      <td>Homme T-shirt réfléchissant fleuri à motif lettre</td>\n      <td>10.99</td>\n    </tr>\n    <tr>\n      <th>118</th>\n      <td>Extended Sizes Homme Chemise col à revers à bo...</td>\n      <td>17.49</td>\n    </tr>\n    <tr>\n      <th>119</th>\n      <td>Homme T-shirt à lettres</td>\n      <td>9.49</td>\n    </tr>\n  </tbody>\n</table>\n<p>120 rows × 2 columns</p>\n</div>"
     },
     "execution_count": 69,
     "metadata": {},
     "output_type": "execute_result"
    }
   ],
   "source": [
    "driver = webdriver.Chrome()\n",
    "\n",
    "# Ouvrir la page web\n",
    "driver.get(\"https://fr.shein.com/Men-Clothing-c-2026.html?ici=fr_tab06navbar04&scici=navbar_MenHomePage~~tab06navbar04~~4~~real_2026~~~~0&src_module=topcat&src_tab_page_id=page_home1673351679865&src_identifier=fc%3DMen%60sc%3DV%C3%8ATEMENTS%60tc%3D0%60oc%3D0%60ps%3Dtab06navbar04%60jc%3Dreal_2026&srctype=category&userpath=category-V%C3%8ATEMENTS&child_cat_id=1970\")\n",
    "\n",
    "# Attendre que les produits soient chargés\n",
    "try:\n",
    "    element = WebDriverWait(driver, 10).until(EC.presence_of_element_located((By.CSS_SELECTOR, \"a.S-product-item__link_jump\")))\n",
    "finally:\n",
    "    # Extraire les noms des produits à partir de la page\n",
    "    product_name_elements = driver.find_elements(By.CSS_SELECTOR, \"a.S-product-item__link_jump\")\n",
    "    product_names = [elem.get_attribute('aria-label') for elem in product_name_elements]\n",
    "\n",
    "try:\n",
    "    element = WebDriverWait(driver, 10).until(EC.presence_of_element_located((By.CSS_SELECTOR, \"span.normal-price-ctn__sale-price\")))\n",
    "finally:\n",
    "    # Extraire les prix des produits à partir de la page\n",
    "    product_price_elements = driver.find_elements(By.CSS_SELECTOR, \"span.normal-price-ctn__sale-price\")\n",
    "    product_prices = [float(elem.get_attribute('aria-label').replace(\"Prix\", \"\").replace(\"€\", \"\")) for elem in product_price_elements]\n",
    "\n",
    "df = pd.DataFrame(list(zip(product_names, product_prices)), columns=['Nom','Prix'])\n",
    "driver.quit()\n",
    "\n",
    "df"
   ],
   "metadata": {
    "collapsed": false,
    "pycharm": {
     "name": "#%%\n"
    }
   }
  },
  {
   "cell_type": "markdown",
   "source": [
    "Dans le bloc suivant on va utiliser une boucle pour scrapper les 40 pages du catalogue Homme de Shein:"
   ],
   "metadata": {
    "collapsed": false,
    "pycharm": {
     "name": "#%% md\n"
    }
   }
  },
  {
   "cell_type": "code",
   "execution_count": 106,
   "outputs": [
    {
     "ename": "MaxRetryError",
     "evalue": "HTTPConnectionPool(host='localhost', port=51166): Max retries exceeded with url: /session/3fa7def950dad5e23a9bfebaebc89d3c/url (Caused by NewConnectionError('<urllib3.connection.HTTPConnection object at 0x000001BE8FC25870>: Failed to establish a new connection: [WinError 10061] Aucune connexion n’a pu être établie car l’ordinateur cible l’a expressément refusée'))",
     "output_type": "error",
     "traceback": [
      "\u001B[1;31m---------------------------------------------------------------------------\u001B[0m",
      "\u001B[1;31mConnectionRefusedError\u001B[0m                    Traceback (most recent call last)",
      "File \u001B[1;32m~\\OneDrive\\Bureau\\ESILV\\COURS\\A5\\Webscrapping\\venv\\lib\\site-packages\\urllib3\\connection.py:174\u001B[0m, in \u001B[0;36mHTTPConnection._new_conn\u001B[1;34m(self)\u001B[0m\n\u001B[0;32m    173\u001B[0m \u001B[38;5;28;01mtry\u001B[39;00m:\n\u001B[1;32m--> 174\u001B[0m     conn \u001B[38;5;241m=\u001B[39m connection\u001B[38;5;241m.\u001B[39mcreate_connection(\n\u001B[0;32m    175\u001B[0m         (\u001B[38;5;28mself\u001B[39m\u001B[38;5;241m.\u001B[39m_dns_host, \u001B[38;5;28mself\u001B[39m\u001B[38;5;241m.\u001B[39mport), \u001B[38;5;28mself\u001B[39m\u001B[38;5;241m.\u001B[39mtimeout, \u001B[38;5;241m*\u001B[39m\u001B[38;5;241m*\u001B[39mextra_kw\n\u001B[0;32m    176\u001B[0m     )\n\u001B[0;32m    178\u001B[0m \u001B[38;5;28;01mexcept\u001B[39;00m SocketTimeout:\n",
      "File \u001B[1;32m~\\OneDrive\\Bureau\\ESILV\\COURS\\A5\\Webscrapping\\venv\\lib\\site-packages\\urllib3\\util\\connection.py:95\u001B[0m, in \u001B[0;36mcreate_connection\u001B[1;34m(address, timeout, source_address, socket_options)\u001B[0m\n\u001B[0;32m     94\u001B[0m \u001B[38;5;28;01mif\u001B[39;00m err \u001B[38;5;129;01mis\u001B[39;00m \u001B[38;5;129;01mnot\u001B[39;00m \u001B[38;5;28;01mNone\u001B[39;00m:\n\u001B[1;32m---> 95\u001B[0m     \u001B[38;5;28;01mraise\u001B[39;00m err\n\u001B[0;32m     97\u001B[0m \u001B[38;5;28;01mraise\u001B[39;00m socket\u001B[38;5;241m.\u001B[39merror(\u001B[38;5;124m\"\u001B[39m\u001B[38;5;124mgetaddrinfo returns an empty list\u001B[39m\u001B[38;5;124m\"\u001B[39m)\n",
      "File \u001B[1;32m~\\OneDrive\\Bureau\\ESILV\\COURS\\A5\\Webscrapping\\venv\\lib\\site-packages\\urllib3\\util\\connection.py:85\u001B[0m, in \u001B[0;36mcreate_connection\u001B[1;34m(address, timeout, source_address, socket_options)\u001B[0m\n\u001B[0;32m     84\u001B[0m     sock\u001B[38;5;241m.\u001B[39mbind(source_address)\n\u001B[1;32m---> 85\u001B[0m \u001B[43msock\u001B[49m\u001B[38;5;241;43m.\u001B[39;49m\u001B[43mconnect\u001B[49m\u001B[43m(\u001B[49m\u001B[43msa\u001B[49m\u001B[43m)\u001B[49m\n\u001B[0;32m     86\u001B[0m \u001B[38;5;28;01mreturn\u001B[39;00m sock\n",
      "\u001B[1;31mConnectionRefusedError\u001B[0m: [WinError 10061] Aucune connexion n’a pu être établie car l’ordinateur cible l’a expressément refusée",
      "\nDuring handling of the above exception, another exception occurred:\n",
      "\u001B[1;31mNewConnectionError\u001B[0m                        Traceback (most recent call last)",
      "File \u001B[1;32m~\\OneDrive\\Bureau\\ESILV\\COURS\\A5\\Webscrapping\\venv\\lib\\site-packages\\urllib3\\connectionpool.py:703\u001B[0m, in \u001B[0;36mHTTPConnectionPool.urlopen\u001B[1;34m(self, method, url, body, headers, retries, redirect, assert_same_host, timeout, pool_timeout, release_conn, chunked, body_pos, **response_kw)\u001B[0m\n\u001B[0;32m    702\u001B[0m \u001B[38;5;66;03m# Make the request on the httplib connection object.\u001B[39;00m\n\u001B[1;32m--> 703\u001B[0m httplib_response \u001B[38;5;241m=\u001B[39m \u001B[38;5;28;43mself\u001B[39;49m\u001B[38;5;241;43m.\u001B[39;49m\u001B[43m_make_request\u001B[49m\u001B[43m(\u001B[49m\n\u001B[0;32m    704\u001B[0m \u001B[43m    \u001B[49m\u001B[43mconn\u001B[49m\u001B[43m,\u001B[49m\n\u001B[0;32m    705\u001B[0m \u001B[43m    \u001B[49m\u001B[43mmethod\u001B[49m\u001B[43m,\u001B[49m\n\u001B[0;32m    706\u001B[0m \u001B[43m    \u001B[49m\u001B[43murl\u001B[49m\u001B[43m,\u001B[49m\n\u001B[0;32m    707\u001B[0m \u001B[43m    \u001B[49m\u001B[43mtimeout\u001B[49m\u001B[38;5;241;43m=\u001B[39;49m\u001B[43mtimeout_obj\u001B[49m\u001B[43m,\u001B[49m\n\u001B[0;32m    708\u001B[0m \u001B[43m    \u001B[49m\u001B[43mbody\u001B[49m\u001B[38;5;241;43m=\u001B[39;49m\u001B[43mbody\u001B[49m\u001B[43m,\u001B[49m\n\u001B[0;32m    709\u001B[0m \u001B[43m    \u001B[49m\u001B[43mheaders\u001B[49m\u001B[38;5;241;43m=\u001B[39;49m\u001B[43mheaders\u001B[49m\u001B[43m,\u001B[49m\n\u001B[0;32m    710\u001B[0m \u001B[43m    \u001B[49m\u001B[43mchunked\u001B[49m\u001B[38;5;241;43m=\u001B[39;49m\u001B[43mchunked\u001B[49m\u001B[43m,\u001B[49m\n\u001B[0;32m    711\u001B[0m \u001B[43m\u001B[49m\u001B[43m)\u001B[49m\n\u001B[0;32m    713\u001B[0m \u001B[38;5;66;03m# If we're going to release the connection in ``finally:``, then\u001B[39;00m\n\u001B[0;32m    714\u001B[0m \u001B[38;5;66;03m# the response doesn't need to know about the connection. Otherwise\u001B[39;00m\n\u001B[0;32m    715\u001B[0m \u001B[38;5;66;03m# it will also try to release it and we'll have a double-release\u001B[39;00m\n\u001B[0;32m    716\u001B[0m \u001B[38;5;66;03m# mess.\u001B[39;00m\n",
      "File \u001B[1;32m~\\OneDrive\\Bureau\\ESILV\\COURS\\A5\\Webscrapping\\venv\\lib\\site-packages\\urllib3\\connectionpool.py:398\u001B[0m, in \u001B[0;36mHTTPConnectionPool._make_request\u001B[1;34m(self, conn, method, url, timeout, chunked, **httplib_request_kw)\u001B[0m\n\u001B[0;32m    397\u001B[0m     \u001B[38;5;28;01melse\u001B[39;00m:\n\u001B[1;32m--> 398\u001B[0m         conn\u001B[38;5;241m.\u001B[39mrequest(method, url, \u001B[38;5;241m*\u001B[39m\u001B[38;5;241m*\u001B[39mhttplib_request_kw)\n\u001B[0;32m    400\u001B[0m \u001B[38;5;66;03m# We are swallowing BrokenPipeError (errno.EPIPE) since the server is\u001B[39;00m\n\u001B[0;32m    401\u001B[0m \u001B[38;5;66;03m# legitimately able to close the connection after sending a valid response.\u001B[39;00m\n\u001B[0;32m    402\u001B[0m \u001B[38;5;66;03m# With this behaviour, the received response is still readable.\u001B[39;00m\n",
      "File \u001B[1;32m~\\OneDrive\\Bureau\\ESILV\\COURS\\A5\\Webscrapping\\venv\\lib\\site-packages\\urllib3\\connection.py:239\u001B[0m, in \u001B[0;36mHTTPConnection.request\u001B[1;34m(self, method, url, body, headers)\u001B[0m\n\u001B[0;32m    238\u001B[0m     headers[\u001B[38;5;124m\"\u001B[39m\u001B[38;5;124mUser-Agent\u001B[39m\u001B[38;5;124m\"\u001B[39m] \u001B[38;5;241m=\u001B[39m _get_default_user_agent()\n\u001B[1;32m--> 239\u001B[0m \u001B[38;5;28;43msuper\u001B[39;49m\u001B[43m(\u001B[49m\u001B[43mHTTPConnection\u001B[49m\u001B[43m,\u001B[49m\u001B[43m \u001B[49m\u001B[38;5;28;43mself\u001B[39;49m\u001B[43m)\u001B[49m\u001B[38;5;241;43m.\u001B[39;49m\u001B[43mrequest\u001B[49m\u001B[43m(\u001B[49m\u001B[43mmethod\u001B[49m\u001B[43m,\u001B[49m\u001B[43m \u001B[49m\u001B[43murl\u001B[49m\u001B[43m,\u001B[49m\u001B[43m \u001B[49m\u001B[43mbody\u001B[49m\u001B[38;5;241;43m=\u001B[39;49m\u001B[43mbody\u001B[49m\u001B[43m,\u001B[49m\u001B[43m \u001B[49m\u001B[43mheaders\u001B[49m\u001B[38;5;241;43m=\u001B[39;49m\u001B[43mheaders\u001B[49m\u001B[43m)\u001B[49m\n",
      "File \u001B[1;32mC:\\Program Files\\WindowsApps\\PythonSoftwareFoundation.Python.3.10_3.10.2544.0_x64__qbz5n2kfra8p0\\lib\\http\\client.py:1282\u001B[0m, in \u001B[0;36mHTTPConnection.request\u001B[1;34m(self, method, url, body, headers, encode_chunked)\u001B[0m\n\u001B[0;32m   1281\u001B[0m \u001B[38;5;124;03m\"\"\"Send a complete request to the server.\"\"\"\u001B[39;00m\n\u001B[1;32m-> 1282\u001B[0m \u001B[38;5;28;43mself\u001B[39;49m\u001B[38;5;241;43m.\u001B[39;49m\u001B[43m_send_request\u001B[49m\u001B[43m(\u001B[49m\u001B[43mmethod\u001B[49m\u001B[43m,\u001B[49m\u001B[43m \u001B[49m\u001B[43murl\u001B[49m\u001B[43m,\u001B[49m\u001B[43m \u001B[49m\u001B[43mbody\u001B[49m\u001B[43m,\u001B[49m\u001B[43m \u001B[49m\u001B[43mheaders\u001B[49m\u001B[43m,\u001B[49m\u001B[43m \u001B[49m\u001B[43mencode_chunked\u001B[49m\u001B[43m)\u001B[49m\n",
      "File \u001B[1;32mC:\\Program Files\\WindowsApps\\PythonSoftwareFoundation.Python.3.10_3.10.2544.0_x64__qbz5n2kfra8p0\\lib\\http\\client.py:1328\u001B[0m, in \u001B[0;36mHTTPConnection._send_request\u001B[1;34m(self, method, url, body, headers, encode_chunked)\u001B[0m\n\u001B[0;32m   1327\u001B[0m     body \u001B[38;5;241m=\u001B[39m _encode(body, \u001B[38;5;124m'\u001B[39m\u001B[38;5;124mbody\u001B[39m\u001B[38;5;124m'\u001B[39m)\n\u001B[1;32m-> 1328\u001B[0m \u001B[38;5;28;43mself\u001B[39;49m\u001B[38;5;241;43m.\u001B[39;49m\u001B[43mendheaders\u001B[49m\u001B[43m(\u001B[49m\u001B[43mbody\u001B[49m\u001B[43m,\u001B[49m\u001B[43m \u001B[49m\u001B[43mencode_chunked\u001B[49m\u001B[38;5;241;43m=\u001B[39;49m\u001B[43mencode_chunked\u001B[49m\u001B[43m)\u001B[49m\n",
      "File \u001B[1;32mC:\\Program Files\\WindowsApps\\PythonSoftwareFoundation.Python.3.10_3.10.2544.0_x64__qbz5n2kfra8p0\\lib\\http\\client.py:1277\u001B[0m, in \u001B[0;36mHTTPConnection.endheaders\u001B[1;34m(self, message_body, encode_chunked)\u001B[0m\n\u001B[0;32m   1276\u001B[0m     \u001B[38;5;28;01mraise\u001B[39;00m CannotSendHeader()\n\u001B[1;32m-> 1277\u001B[0m \u001B[38;5;28;43mself\u001B[39;49m\u001B[38;5;241;43m.\u001B[39;49m\u001B[43m_send_output\u001B[49m\u001B[43m(\u001B[49m\u001B[43mmessage_body\u001B[49m\u001B[43m,\u001B[49m\u001B[43m \u001B[49m\u001B[43mencode_chunked\u001B[49m\u001B[38;5;241;43m=\u001B[39;49m\u001B[43mencode_chunked\u001B[49m\u001B[43m)\u001B[49m\n",
      "File \u001B[1;32mC:\\Program Files\\WindowsApps\\PythonSoftwareFoundation.Python.3.10_3.10.2544.0_x64__qbz5n2kfra8p0\\lib\\http\\client.py:1037\u001B[0m, in \u001B[0;36mHTTPConnection._send_output\u001B[1;34m(self, message_body, encode_chunked)\u001B[0m\n\u001B[0;32m   1036\u001B[0m \u001B[38;5;28;01mdel\u001B[39;00m \u001B[38;5;28mself\u001B[39m\u001B[38;5;241m.\u001B[39m_buffer[:]\n\u001B[1;32m-> 1037\u001B[0m \u001B[38;5;28;43mself\u001B[39;49m\u001B[38;5;241;43m.\u001B[39;49m\u001B[43msend\u001B[49m\u001B[43m(\u001B[49m\u001B[43mmsg\u001B[49m\u001B[43m)\u001B[49m\n\u001B[0;32m   1039\u001B[0m \u001B[38;5;28;01mif\u001B[39;00m message_body \u001B[38;5;129;01mis\u001B[39;00m \u001B[38;5;129;01mnot\u001B[39;00m \u001B[38;5;28;01mNone\u001B[39;00m:\n\u001B[0;32m   1040\u001B[0m \n\u001B[0;32m   1041\u001B[0m     \u001B[38;5;66;03m# create a consistent interface to message_body\u001B[39;00m\n",
      "File \u001B[1;32mC:\\Program Files\\WindowsApps\\PythonSoftwareFoundation.Python.3.10_3.10.2544.0_x64__qbz5n2kfra8p0\\lib\\http\\client.py:975\u001B[0m, in \u001B[0;36mHTTPConnection.send\u001B[1;34m(self, data)\u001B[0m\n\u001B[0;32m    974\u001B[0m \u001B[38;5;28;01mif\u001B[39;00m \u001B[38;5;28mself\u001B[39m\u001B[38;5;241m.\u001B[39mauto_open:\n\u001B[1;32m--> 975\u001B[0m     \u001B[38;5;28;43mself\u001B[39;49m\u001B[38;5;241;43m.\u001B[39;49m\u001B[43mconnect\u001B[49m\u001B[43m(\u001B[49m\u001B[43m)\u001B[49m\n\u001B[0;32m    976\u001B[0m \u001B[38;5;28;01melse\u001B[39;00m:\n",
      "File \u001B[1;32m~\\OneDrive\\Bureau\\ESILV\\COURS\\A5\\Webscrapping\\venv\\lib\\site-packages\\urllib3\\connection.py:205\u001B[0m, in \u001B[0;36mHTTPConnection.connect\u001B[1;34m(self)\u001B[0m\n\u001B[0;32m    204\u001B[0m \u001B[38;5;28;01mdef\u001B[39;00m \u001B[38;5;21mconnect\u001B[39m(\u001B[38;5;28mself\u001B[39m):\n\u001B[1;32m--> 205\u001B[0m     conn \u001B[38;5;241m=\u001B[39m \u001B[38;5;28;43mself\u001B[39;49m\u001B[38;5;241;43m.\u001B[39;49m\u001B[43m_new_conn\u001B[49m\u001B[43m(\u001B[49m\u001B[43m)\u001B[49m\n\u001B[0;32m    206\u001B[0m     \u001B[38;5;28mself\u001B[39m\u001B[38;5;241m.\u001B[39m_prepare_conn(conn)\n",
      "File \u001B[1;32m~\\OneDrive\\Bureau\\ESILV\\COURS\\A5\\Webscrapping\\venv\\lib\\site-packages\\urllib3\\connection.py:186\u001B[0m, in \u001B[0;36mHTTPConnection._new_conn\u001B[1;34m(self)\u001B[0m\n\u001B[0;32m    185\u001B[0m \u001B[38;5;28;01mexcept\u001B[39;00m SocketError \u001B[38;5;28;01mas\u001B[39;00m e:\n\u001B[1;32m--> 186\u001B[0m     \u001B[38;5;28;01mraise\u001B[39;00m NewConnectionError(\n\u001B[0;32m    187\u001B[0m         \u001B[38;5;28mself\u001B[39m, \u001B[38;5;124m\"\u001B[39m\u001B[38;5;124mFailed to establish a new connection: \u001B[39m\u001B[38;5;132;01m%s\u001B[39;00m\u001B[38;5;124m\"\u001B[39m \u001B[38;5;241m%\u001B[39m e\n\u001B[0;32m    188\u001B[0m     )\n\u001B[0;32m    190\u001B[0m \u001B[38;5;28;01mreturn\u001B[39;00m conn\n",
      "\u001B[1;31mNewConnectionError\u001B[0m: <urllib3.connection.HTTPConnection object at 0x000001BE8FC25870>: Failed to establish a new connection: [WinError 10061] Aucune connexion n’a pu être établie car l’ordinateur cible l’a expressément refusée",
      "\nDuring handling of the above exception, another exception occurred:\n",
      "\u001B[1;31mMaxRetryError\u001B[0m                             Traceback (most recent call last)",
      "Cell \u001B[1;32mIn [106], line 7\u001B[0m\n\u001B[0;32m      5\u001B[0m \u001B[38;5;28;01mwhile\u001B[39;00m page \u001B[38;5;241m!=\u001B[39m \u001B[38;5;241m40\u001B[39m:\n\u001B[0;32m      6\u001B[0m     url \u001B[38;5;241m=\u001B[39m \u001B[38;5;124mf\u001B[39m\u001B[38;5;124m\"\u001B[39m\u001B[38;5;124mhttps://fr.shein.com/Men-Clothing-c-2026.html?ici=fr_tab06navbar04&scici=navbar_MenHomePage~~tab06navbar04~~4~~real_2026~~~~0&src_module=topcat&src_tab_page_id=page_home1673351679865&src_identifier=fc%3DMen%60sc%3DV%C3%8ATEMENTS%60tc%3D0%60oc%3D0%60ps%3Dtab06navbar04%60jc%3Dreal_2026&srctype=category&userpath=category-V%C3%8ATEMENTS&child_cat_id=1970&page=\u001B[39m\u001B[38;5;132;01m{\u001B[39;00mpage\u001B[38;5;132;01m}\u001B[39;00m\u001B[38;5;124m\"\u001B[39m\n\u001B[1;32m----> 7\u001B[0m     \u001B[43mdriver\u001B[49m\u001B[38;5;241;43m.\u001B[39;49m\u001B[43mget\u001B[49m\u001B[43m(\u001B[49m\u001B[43murl\u001B[49m\u001B[43m)\u001B[49m\n\u001B[0;32m      8\u001B[0m     \u001B[38;5;28mprint\u001B[39m(url)\n\u001B[0;32m      9\u001B[0m     \u001B[38;5;28mprint\u001B[39m()\n",
      "File \u001B[1;32m~\\OneDrive\\Bureau\\ESILV\\COURS\\A5\\Webscrapping\\venv\\lib\\site-packages\\selenium\\webdriver\\remote\\webdriver.py:455\u001B[0m, in \u001B[0;36mWebDriver.get\u001B[1;34m(self, url)\u001B[0m\n\u001B[0;32m    451\u001B[0m \u001B[38;5;28;01mdef\u001B[39;00m \u001B[38;5;21mget\u001B[39m(\u001B[38;5;28mself\u001B[39m, url: \u001B[38;5;28mstr\u001B[39m) \u001B[38;5;241m-\u001B[39m\u001B[38;5;241m>\u001B[39m \u001B[38;5;28;01mNone\u001B[39;00m:\n\u001B[0;32m    452\u001B[0m     \u001B[38;5;124;03m\"\"\"\u001B[39;00m\n\u001B[0;32m    453\u001B[0m \u001B[38;5;124;03m    Loads a web page in the current browser session.\u001B[39;00m\n\u001B[0;32m    454\u001B[0m \u001B[38;5;124;03m    \"\"\"\u001B[39;00m\n\u001B[1;32m--> 455\u001B[0m     \u001B[38;5;28;43mself\u001B[39;49m\u001B[38;5;241;43m.\u001B[39;49m\u001B[43mexecute\u001B[49m\u001B[43m(\u001B[49m\u001B[43mCommand\u001B[49m\u001B[38;5;241;43m.\u001B[39;49m\u001B[43mGET\u001B[49m\u001B[43m,\u001B[49m\u001B[43m \u001B[49m\u001B[43m{\u001B[49m\u001B[38;5;124;43m\"\u001B[39;49m\u001B[38;5;124;43murl\u001B[39;49m\u001B[38;5;124;43m\"\u001B[39;49m\u001B[43m:\u001B[49m\u001B[43m \u001B[49m\u001B[43murl\u001B[49m\u001B[43m}\u001B[49m\u001B[43m)\u001B[49m\n",
      "File \u001B[1;32m~\\OneDrive\\Bureau\\ESILV\\COURS\\A5\\Webscrapping\\venv\\lib\\site-packages\\selenium\\webdriver\\remote\\webdriver.py:442\u001B[0m, in \u001B[0;36mWebDriver.execute\u001B[1;34m(self, driver_command, params)\u001B[0m\n\u001B[0;32m    439\u001B[0m     \u001B[38;5;28;01melif\u001B[39;00m \u001B[38;5;124m\"\u001B[39m\u001B[38;5;124msessionId\u001B[39m\u001B[38;5;124m\"\u001B[39m \u001B[38;5;129;01mnot\u001B[39;00m \u001B[38;5;129;01min\u001B[39;00m params:\n\u001B[0;32m    440\u001B[0m         params[\u001B[38;5;124m\"\u001B[39m\u001B[38;5;124msessionId\u001B[39m\u001B[38;5;124m\"\u001B[39m] \u001B[38;5;241m=\u001B[39m \u001B[38;5;28mself\u001B[39m\u001B[38;5;241m.\u001B[39msession_id\n\u001B[1;32m--> 442\u001B[0m response \u001B[38;5;241m=\u001B[39m \u001B[38;5;28;43mself\u001B[39;49m\u001B[38;5;241;43m.\u001B[39;49m\u001B[43mcommand_executor\u001B[49m\u001B[38;5;241;43m.\u001B[39;49m\u001B[43mexecute\u001B[49m\u001B[43m(\u001B[49m\u001B[43mdriver_command\u001B[49m\u001B[43m,\u001B[49m\u001B[43m \u001B[49m\u001B[43mparams\u001B[49m\u001B[43m)\u001B[49m\n\u001B[0;32m    443\u001B[0m \u001B[38;5;28;01mif\u001B[39;00m response:\n\u001B[0;32m    444\u001B[0m     \u001B[38;5;28mself\u001B[39m\u001B[38;5;241m.\u001B[39merror_handler\u001B[38;5;241m.\u001B[39mcheck_response(response)\n",
      "File \u001B[1;32m~\\OneDrive\\Bureau\\ESILV\\COURS\\A5\\Webscrapping\\venv\\lib\\site-packages\\selenium\\webdriver\\remote\\remote_connection.py:294\u001B[0m, in \u001B[0;36mRemoteConnection.execute\u001B[1;34m(self, command, params)\u001B[0m\n\u001B[0;32m    292\u001B[0m data \u001B[38;5;241m=\u001B[39m utils\u001B[38;5;241m.\u001B[39mdump_json(params)\n\u001B[0;32m    293\u001B[0m url \u001B[38;5;241m=\u001B[39m \u001B[38;5;124mf\u001B[39m\u001B[38;5;124m\"\u001B[39m\u001B[38;5;132;01m{\u001B[39;00m\u001B[38;5;28mself\u001B[39m\u001B[38;5;241m.\u001B[39m_url\u001B[38;5;132;01m}\u001B[39;00m\u001B[38;5;132;01m{\u001B[39;00mpath\u001B[38;5;132;01m}\u001B[39;00m\u001B[38;5;124m\"\u001B[39m\n\u001B[1;32m--> 294\u001B[0m \u001B[38;5;28;01mreturn\u001B[39;00m \u001B[38;5;28;43mself\u001B[39;49m\u001B[38;5;241;43m.\u001B[39;49m\u001B[43m_request\u001B[49m\u001B[43m(\u001B[49m\u001B[43mcommand_info\u001B[49m\u001B[43m[\u001B[49m\u001B[38;5;241;43m0\u001B[39;49m\u001B[43m]\u001B[49m\u001B[43m,\u001B[49m\u001B[43m \u001B[49m\u001B[43murl\u001B[49m\u001B[43m,\u001B[49m\u001B[43m \u001B[49m\u001B[43mbody\u001B[49m\u001B[38;5;241;43m=\u001B[39;49m\u001B[43mdata\u001B[49m\u001B[43m)\u001B[49m\n",
      "File \u001B[1;32m~\\OneDrive\\Bureau\\ESILV\\COURS\\A5\\Webscrapping\\venv\\lib\\site-packages\\selenium\\webdriver\\remote\\remote_connection.py:316\u001B[0m, in \u001B[0;36mRemoteConnection._request\u001B[1;34m(self, method, url, body)\u001B[0m\n\u001B[0;32m    313\u001B[0m     body \u001B[38;5;241m=\u001B[39m \u001B[38;5;28;01mNone\u001B[39;00m\n\u001B[0;32m    315\u001B[0m \u001B[38;5;28;01mif\u001B[39;00m \u001B[38;5;28mself\u001B[39m\u001B[38;5;241m.\u001B[39mkeep_alive:\n\u001B[1;32m--> 316\u001B[0m     response \u001B[38;5;241m=\u001B[39m \u001B[38;5;28;43mself\u001B[39;49m\u001B[38;5;241;43m.\u001B[39;49m\u001B[43m_conn\u001B[49m\u001B[38;5;241;43m.\u001B[39;49m\u001B[43mrequest\u001B[49m\u001B[43m(\u001B[49m\u001B[43mmethod\u001B[49m\u001B[43m,\u001B[49m\u001B[43m \u001B[49m\u001B[43murl\u001B[49m\u001B[43m,\u001B[49m\u001B[43m \u001B[49m\u001B[43mbody\u001B[49m\u001B[38;5;241;43m=\u001B[39;49m\u001B[43mbody\u001B[49m\u001B[43m,\u001B[49m\u001B[43m \u001B[49m\u001B[43mheaders\u001B[49m\u001B[38;5;241;43m=\u001B[39;49m\u001B[43mheaders\u001B[49m\u001B[43m)\u001B[49m\n\u001B[0;32m    317\u001B[0m     statuscode \u001B[38;5;241m=\u001B[39m response\u001B[38;5;241m.\u001B[39mstatus\n\u001B[0;32m    318\u001B[0m \u001B[38;5;28;01melse\u001B[39;00m:\n",
      "File \u001B[1;32m~\\OneDrive\\Bureau\\ESILV\\COURS\\A5\\Webscrapping\\venv\\lib\\site-packages\\urllib3\\request.py:78\u001B[0m, in \u001B[0;36mRequestMethods.request\u001B[1;34m(self, method, url, fields, headers, **urlopen_kw)\u001B[0m\n\u001B[0;32m     74\u001B[0m     \u001B[38;5;28;01mreturn\u001B[39;00m \u001B[38;5;28mself\u001B[39m\u001B[38;5;241m.\u001B[39mrequest_encode_url(\n\u001B[0;32m     75\u001B[0m         method, url, fields\u001B[38;5;241m=\u001B[39mfields, headers\u001B[38;5;241m=\u001B[39mheaders, \u001B[38;5;241m*\u001B[39m\u001B[38;5;241m*\u001B[39murlopen_kw\n\u001B[0;32m     76\u001B[0m     )\n\u001B[0;32m     77\u001B[0m \u001B[38;5;28;01melse\u001B[39;00m:\n\u001B[1;32m---> 78\u001B[0m     \u001B[38;5;28;01mreturn\u001B[39;00m \u001B[38;5;28mself\u001B[39m\u001B[38;5;241m.\u001B[39mrequest_encode_body(\n\u001B[0;32m     79\u001B[0m         method, url, fields\u001B[38;5;241m=\u001B[39mfields, headers\u001B[38;5;241m=\u001B[39mheaders, \u001B[38;5;241m*\u001B[39m\u001B[38;5;241m*\u001B[39murlopen_kw\n\u001B[0;32m     80\u001B[0m     )\n",
      "File \u001B[1;32m~\\OneDrive\\Bureau\\ESILV\\COURS\\A5\\Webscrapping\\venv\\lib\\site-packages\\urllib3\\request.py:170\u001B[0m, in \u001B[0;36mRequestMethods.request_encode_body\u001B[1;34m(self, method, url, fields, headers, encode_multipart, multipart_boundary, **urlopen_kw)\u001B[0m\n\u001B[0;32m    167\u001B[0m extra_kw[\u001B[38;5;124m\"\u001B[39m\u001B[38;5;124mheaders\u001B[39m\u001B[38;5;124m\"\u001B[39m]\u001B[38;5;241m.\u001B[39mupdate(headers)\n\u001B[0;32m    168\u001B[0m extra_kw\u001B[38;5;241m.\u001B[39mupdate(urlopen_kw)\n\u001B[1;32m--> 170\u001B[0m \u001B[38;5;28;01mreturn\u001B[39;00m \u001B[38;5;28mself\u001B[39m\u001B[38;5;241m.\u001B[39murlopen(method, url, \u001B[38;5;241m*\u001B[39m\u001B[38;5;241m*\u001B[39mextra_kw)\n",
      "File \u001B[1;32m~\\OneDrive\\Bureau\\ESILV\\COURS\\A5\\Webscrapping\\venv\\lib\\site-packages\\urllib3\\poolmanager.py:376\u001B[0m, in \u001B[0;36mPoolManager.urlopen\u001B[1;34m(self, method, url, redirect, **kw)\u001B[0m\n\u001B[0;32m    374\u001B[0m     response \u001B[38;5;241m=\u001B[39m conn\u001B[38;5;241m.\u001B[39murlopen(method, url, \u001B[38;5;241m*\u001B[39m\u001B[38;5;241m*\u001B[39mkw)\n\u001B[0;32m    375\u001B[0m \u001B[38;5;28;01melse\u001B[39;00m:\n\u001B[1;32m--> 376\u001B[0m     response \u001B[38;5;241m=\u001B[39m conn\u001B[38;5;241m.\u001B[39murlopen(method, u\u001B[38;5;241m.\u001B[39mrequest_uri, \u001B[38;5;241m*\u001B[39m\u001B[38;5;241m*\u001B[39mkw)\n\u001B[0;32m    378\u001B[0m redirect_location \u001B[38;5;241m=\u001B[39m redirect \u001B[38;5;129;01mand\u001B[39;00m response\u001B[38;5;241m.\u001B[39mget_redirect_location()\n\u001B[0;32m    379\u001B[0m \u001B[38;5;28;01mif\u001B[39;00m \u001B[38;5;129;01mnot\u001B[39;00m redirect_location:\n",
      "File \u001B[1;32m~\\OneDrive\\Bureau\\ESILV\\COURS\\A5\\Webscrapping\\venv\\lib\\site-packages\\urllib3\\connectionpool.py:815\u001B[0m, in \u001B[0;36mHTTPConnectionPool.urlopen\u001B[1;34m(self, method, url, body, headers, retries, redirect, assert_same_host, timeout, pool_timeout, release_conn, chunked, body_pos, **response_kw)\u001B[0m\n\u001B[0;32m    810\u001B[0m \u001B[38;5;28;01mif\u001B[39;00m \u001B[38;5;129;01mnot\u001B[39;00m conn:\n\u001B[0;32m    811\u001B[0m     \u001B[38;5;66;03m# Try again\u001B[39;00m\n\u001B[0;32m    812\u001B[0m     log\u001B[38;5;241m.\u001B[39mwarning(\n\u001B[0;32m    813\u001B[0m         \u001B[38;5;124m\"\u001B[39m\u001B[38;5;124mRetrying (\u001B[39m\u001B[38;5;132;01m%r\u001B[39;00m\u001B[38;5;124m) after connection broken by \u001B[39m\u001B[38;5;124m'\u001B[39m\u001B[38;5;132;01m%r\u001B[39;00m\u001B[38;5;124m'\u001B[39m\u001B[38;5;124m: \u001B[39m\u001B[38;5;132;01m%s\u001B[39;00m\u001B[38;5;124m\"\u001B[39m, retries, err, url\n\u001B[0;32m    814\u001B[0m     )\n\u001B[1;32m--> 815\u001B[0m     \u001B[38;5;28;01mreturn\u001B[39;00m \u001B[38;5;28mself\u001B[39m\u001B[38;5;241m.\u001B[39murlopen(\n\u001B[0;32m    816\u001B[0m         method,\n\u001B[0;32m    817\u001B[0m         url,\n\u001B[0;32m    818\u001B[0m         body,\n\u001B[0;32m    819\u001B[0m         headers,\n\u001B[0;32m    820\u001B[0m         retries,\n\u001B[0;32m    821\u001B[0m         redirect,\n\u001B[0;32m    822\u001B[0m         assert_same_host,\n\u001B[0;32m    823\u001B[0m         timeout\u001B[38;5;241m=\u001B[39mtimeout,\n\u001B[0;32m    824\u001B[0m         pool_timeout\u001B[38;5;241m=\u001B[39mpool_timeout,\n\u001B[0;32m    825\u001B[0m         release_conn\u001B[38;5;241m=\u001B[39mrelease_conn,\n\u001B[0;32m    826\u001B[0m         chunked\u001B[38;5;241m=\u001B[39mchunked,\n\u001B[0;32m    827\u001B[0m         body_pos\u001B[38;5;241m=\u001B[39mbody_pos,\n\u001B[0;32m    828\u001B[0m         \u001B[38;5;241m*\u001B[39m\u001B[38;5;241m*\u001B[39mresponse_kw\n\u001B[0;32m    829\u001B[0m     )\n\u001B[0;32m    831\u001B[0m \u001B[38;5;66;03m# Handle redirect?\u001B[39;00m\n\u001B[0;32m    832\u001B[0m redirect_location \u001B[38;5;241m=\u001B[39m redirect \u001B[38;5;129;01mand\u001B[39;00m response\u001B[38;5;241m.\u001B[39mget_redirect_location()\n",
      "File \u001B[1;32m~\\OneDrive\\Bureau\\ESILV\\COURS\\A5\\Webscrapping\\venv\\lib\\site-packages\\urllib3\\connectionpool.py:815\u001B[0m, in \u001B[0;36mHTTPConnectionPool.urlopen\u001B[1;34m(self, method, url, body, headers, retries, redirect, assert_same_host, timeout, pool_timeout, release_conn, chunked, body_pos, **response_kw)\u001B[0m\n\u001B[0;32m    810\u001B[0m \u001B[38;5;28;01mif\u001B[39;00m \u001B[38;5;129;01mnot\u001B[39;00m conn:\n\u001B[0;32m    811\u001B[0m     \u001B[38;5;66;03m# Try again\u001B[39;00m\n\u001B[0;32m    812\u001B[0m     log\u001B[38;5;241m.\u001B[39mwarning(\n\u001B[0;32m    813\u001B[0m         \u001B[38;5;124m\"\u001B[39m\u001B[38;5;124mRetrying (\u001B[39m\u001B[38;5;132;01m%r\u001B[39;00m\u001B[38;5;124m) after connection broken by \u001B[39m\u001B[38;5;124m'\u001B[39m\u001B[38;5;132;01m%r\u001B[39;00m\u001B[38;5;124m'\u001B[39m\u001B[38;5;124m: \u001B[39m\u001B[38;5;132;01m%s\u001B[39;00m\u001B[38;5;124m\"\u001B[39m, retries, err, url\n\u001B[0;32m    814\u001B[0m     )\n\u001B[1;32m--> 815\u001B[0m     \u001B[38;5;28;01mreturn\u001B[39;00m \u001B[38;5;28mself\u001B[39m\u001B[38;5;241m.\u001B[39murlopen(\n\u001B[0;32m    816\u001B[0m         method,\n\u001B[0;32m    817\u001B[0m         url,\n\u001B[0;32m    818\u001B[0m         body,\n\u001B[0;32m    819\u001B[0m         headers,\n\u001B[0;32m    820\u001B[0m         retries,\n\u001B[0;32m    821\u001B[0m         redirect,\n\u001B[0;32m    822\u001B[0m         assert_same_host,\n\u001B[0;32m    823\u001B[0m         timeout\u001B[38;5;241m=\u001B[39mtimeout,\n\u001B[0;32m    824\u001B[0m         pool_timeout\u001B[38;5;241m=\u001B[39mpool_timeout,\n\u001B[0;32m    825\u001B[0m         release_conn\u001B[38;5;241m=\u001B[39mrelease_conn,\n\u001B[0;32m    826\u001B[0m         chunked\u001B[38;5;241m=\u001B[39mchunked,\n\u001B[0;32m    827\u001B[0m         body_pos\u001B[38;5;241m=\u001B[39mbody_pos,\n\u001B[0;32m    828\u001B[0m         \u001B[38;5;241m*\u001B[39m\u001B[38;5;241m*\u001B[39mresponse_kw\n\u001B[0;32m    829\u001B[0m     )\n\u001B[0;32m    831\u001B[0m \u001B[38;5;66;03m# Handle redirect?\u001B[39;00m\n\u001B[0;32m    832\u001B[0m redirect_location \u001B[38;5;241m=\u001B[39m redirect \u001B[38;5;129;01mand\u001B[39;00m response\u001B[38;5;241m.\u001B[39mget_redirect_location()\n",
      "File \u001B[1;32m~\\OneDrive\\Bureau\\ESILV\\COURS\\A5\\Webscrapping\\venv\\lib\\site-packages\\urllib3\\connectionpool.py:815\u001B[0m, in \u001B[0;36mHTTPConnectionPool.urlopen\u001B[1;34m(self, method, url, body, headers, retries, redirect, assert_same_host, timeout, pool_timeout, release_conn, chunked, body_pos, **response_kw)\u001B[0m\n\u001B[0;32m    810\u001B[0m \u001B[38;5;28;01mif\u001B[39;00m \u001B[38;5;129;01mnot\u001B[39;00m conn:\n\u001B[0;32m    811\u001B[0m     \u001B[38;5;66;03m# Try again\u001B[39;00m\n\u001B[0;32m    812\u001B[0m     log\u001B[38;5;241m.\u001B[39mwarning(\n\u001B[0;32m    813\u001B[0m         \u001B[38;5;124m\"\u001B[39m\u001B[38;5;124mRetrying (\u001B[39m\u001B[38;5;132;01m%r\u001B[39;00m\u001B[38;5;124m) after connection broken by \u001B[39m\u001B[38;5;124m'\u001B[39m\u001B[38;5;132;01m%r\u001B[39;00m\u001B[38;5;124m'\u001B[39m\u001B[38;5;124m: \u001B[39m\u001B[38;5;132;01m%s\u001B[39;00m\u001B[38;5;124m\"\u001B[39m, retries, err, url\n\u001B[0;32m    814\u001B[0m     )\n\u001B[1;32m--> 815\u001B[0m     \u001B[38;5;28;01mreturn\u001B[39;00m \u001B[38;5;28mself\u001B[39m\u001B[38;5;241m.\u001B[39murlopen(\n\u001B[0;32m    816\u001B[0m         method,\n\u001B[0;32m    817\u001B[0m         url,\n\u001B[0;32m    818\u001B[0m         body,\n\u001B[0;32m    819\u001B[0m         headers,\n\u001B[0;32m    820\u001B[0m         retries,\n\u001B[0;32m    821\u001B[0m         redirect,\n\u001B[0;32m    822\u001B[0m         assert_same_host,\n\u001B[0;32m    823\u001B[0m         timeout\u001B[38;5;241m=\u001B[39mtimeout,\n\u001B[0;32m    824\u001B[0m         pool_timeout\u001B[38;5;241m=\u001B[39mpool_timeout,\n\u001B[0;32m    825\u001B[0m         release_conn\u001B[38;5;241m=\u001B[39mrelease_conn,\n\u001B[0;32m    826\u001B[0m         chunked\u001B[38;5;241m=\u001B[39mchunked,\n\u001B[0;32m    827\u001B[0m         body_pos\u001B[38;5;241m=\u001B[39mbody_pos,\n\u001B[0;32m    828\u001B[0m         \u001B[38;5;241m*\u001B[39m\u001B[38;5;241m*\u001B[39mresponse_kw\n\u001B[0;32m    829\u001B[0m     )\n\u001B[0;32m    831\u001B[0m \u001B[38;5;66;03m# Handle redirect?\u001B[39;00m\n\u001B[0;32m    832\u001B[0m redirect_location \u001B[38;5;241m=\u001B[39m redirect \u001B[38;5;129;01mand\u001B[39;00m response\u001B[38;5;241m.\u001B[39mget_redirect_location()\n",
      "File \u001B[1;32m~\\OneDrive\\Bureau\\ESILV\\COURS\\A5\\Webscrapping\\venv\\lib\\site-packages\\urllib3\\connectionpool.py:787\u001B[0m, in \u001B[0;36mHTTPConnectionPool.urlopen\u001B[1;34m(self, method, url, body, headers, retries, redirect, assert_same_host, timeout, pool_timeout, release_conn, chunked, body_pos, **response_kw)\u001B[0m\n\u001B[0;32m    784\u001B[0m \u001B[38;5;28;01melif\u001B[39;00m \u001B[38;5;28misinstance\u001B[39m(e, (SocketError, HTTPException)):\n\u001B[0;32m    785\u001B[0m     e \u001B[38;5;241m=\u001B[39m ProtocolError(\u001B[38;5;124m\"\u001B[39m\u001B[38;5;124mConnection aborted.\u001B[39m\u001B[38;5;124m\"\u001B[39m, e)\n\u001B[1;32m--> 787\u001B[0m retries \u001B[38;5;241m=\u001B[39m \u001B[43mretries\u001B[49m\u001B[38;5;241;43m.\u001B[39;49m\u001B[43mincrement\u001B[49m\u001B[43m(\u001B[49m\n\u001B[0;32m    788\u001B[0m \u001B[43m    \u001B[49m\u001B[43mmethod\u001B[49m\u001B[43m,\u001B[49m\u001B[43m \u001B[49m\u001B[43murl\u001B[49m\u001B[43m,\u001B[49m\u001B[43m \u001B[49m\u001B[43merror\u001B[49m\u001B[38;5;241;43m=\u001B[39;49m\u001B[43me\u001B[49m\u001B[43m,\u001B[49m\u001B[43m \u001B[49m\u001B[43m_pool\u001B[49m\u001B[38;5;241;43m=\u001B[39;49m\u001B[38;5;28;43mself\u001B[39;49m\u001B[43m,\u001B[49m\u001B[43m \u001B[49m\u001B[43m_stacktrace\u001B[49m\u001B[38;5;241;43m=\u001B[39;49m\u001B[43msys\u001B[49m\u001B[38;5;241;43m.\u001B[39;49m\u001B[43mexc_info\u001B[49m\u001B[43m(\u001B[49m\u001B[43m)\u001B[49m\u001B[43m[\u001B[49m\u001B[38;5;241;43m2\u001B[39;49m\u001B[43m]\u001B[49m\n\u001B[0;32m    789\u001B[0m \u001B[43m\u001B[49m\u001B[43m)\u001B[49m\n\u001B[0;32m    790\u001B[0m retries\u001B[38;5;241m.\u001B[39msleep()\n\u001B[0;32m    792\u001B[0m \u001B[38;5;66;03m# Keep track of the error for the retry warning.\u001B[39;00m\n",
      "File \u001B[1;32m~\\OneDrive\\Bureau\\ESILV\\COURS\\A5\\Webscrapping\\venv\\lib\\site-packages\\urllib3\\util\\retry.py:592\u001B[0m, in \u001B[0;36mRetry.increment\u001B[1;34m(self, method, url, response, error, _pool, _stacktrace)\u001B[0m\n\u001B[0;32m    581\u001B[0m new_retry \u001B[38;5;241m=\u001B[39m \u001B[38;5;28mself\u001B[39m\u001B[38;5;241m.\u001B[39mnew(\n\u001B[0;32m    582\u001B[0m     total\u001B[38;5;241m=\u001B[39mtotal,\n\u001B[0;32m    583\u001B[0m     connect\u001B[38;5;241m=\u001B[39mconnect,\n\u001B[1;32m   (...)\u001B[0m\n\u001B[0;32m    588\u001B[0m     history\u001B[38;5;241m=\u001B[39mhistory,\n\u001B[0;32m    589\u001B[0m )\n\u001B[0;32m    591\u001B[0m \u001B[38;5;28;01mif\u001B[39;00m new_retry\u001B[38;5;241m.\u001B[39mis_exhausted():\n\u001B[1;32m--> 592\u001B[0m     \u001B[38;5;28;01mraise\u001B[39;00m MaxRetryError(_pool, url, error \u001B[38;5;129;01mor\u001B[39;00m ResponseError(cause))\n\u001B[0;32m    594\u001B[0m log\u001B[38;5;241m.\u001B[39mdebug(\u001B[38;5;124m\"\u001B[39m\u001B[38;5;124mIncremented Retry for (url=\u001B[39m\u001B[38;5;124m'\u001B[39m\u001B[38;5;132;01m%s\u001B[39;00m\u001B[38;5;124m'\u001B[39m\u001B[38;5;124m): \u001B[39m\u001B[38;5;132;01m%r\u001B[39;00m\u001B[38;5;124m\"\u001B[39m, url, new_retry)\n\u001B[0;32m    596\u001B[0m \u001B[38;5;28;01mreturn\u001B[39;00m new_retry\n",
      "\u001B[1;31mMaxRetryError\u001B[0m: HTTPConnectionPool(host='localhost', port=51166): Max retries exceeded with url: /session/3fa7def950dad5e23a9bfebaebc89d3c/url (Caused by NewConnectionError('<urllib3.connection.HTTPConnection object at 0x000001BE8FC25870>: Failed to establish a new connection: [WinError 10061] Aucune connexion n’a pu être établie car l’ordinateur cible l’a expressément refusée'))"
     ]
    }
   ],
   "source": [
    "page = 1\n",
    "temp1 = []\n",
    "temp2 = []\n",
    "\n",
    "while page != 40:\n",
    "    url = f\"https://fr.shein.com/Men-Clothing-c-2026.html?ici=fr_tab06navbar04&scici=navbar_MenHomePage~~tab06navbar04~~4~~real_2026~~~~0&src_module=topcat&src_tab_page_id=page_home1673351679865&src_identifier=fc%3DMen%60sc%3DV%C3%8ATEMENTS%60tc%3D0%60oc%3D0%60ps%3Dtab06navbar04%60jc%3Dreal_2026&srctype=category&userpath=category-V%C3%8ATEMENTS&child_cat_id=1970&page={page}\"\n",
    "    driver.get(url)\n",
    "    print(url)\n",
    "    print()\n",
    "    try:\n",
    "        element = WebDriverWait(driver, 10).until(EC.presence_of_element_located((By.CSS_SELECTOR, \"a.S-product-item__link_jump\")))\n",
    "    finally:\n",
    "        # Extraire les noms des produits à partir de la page\n",
    "        product_name_elements = driver.find_elements(By.CSS_SELECTOR, \"a.S-product-item__link_jump\")\n",
    "        product_names = [elem.get_attribute('aria-label') for elem in product_name_elements]\n",
    "        temp1.append(product_names)\n",
    "    try:\n",
    "        element = WebDriverWait(driver, 10).until(EC.presence_of_element_located((By.CSS_SELECTOR, \"span.normal-price-ctn__sale-price\")))\n",
    "    finally:\n",
    "        # Extraire les prix des produits à partir de la page\n",
    "        product_price_elements = driver.find_elements(By.CSS_SELECTOR, \"span.normal-price-ctn__sale-price\")\n",
    "        product_prices = [float(elem.get_attribute('aria-label').replace(\"Prix\", \"\").replace(\"€\", \"\")) for elem in product_price_elements]\n",
    "        temp2.append(product_prices)\n",
    "    page = page + 1\n",
    "\n",
    "driver.quit()\n",
    "\n",
    "flat_list1 = [item for sublist in temp1 for item in sublist]\n",
    "flat_list2 = [item for sublist in temp2 for item in sublist]\n",
    "df = pd.DataFrame(\n",
    "    {'Nom': flat_list1,\n",
    "     'Prix': flat_list2\n",
    "    })\n",
    "\n",
    "df.to_csv(r'files/shein.csv', index=False,encoding='utf-8-sig')\n",
    "\n",
    "df"
   ],
   "metadata": {
    "collapsed": false,
    "pycharm": {
     "name": "#%%\n"
    }
   }
  },
  {
   "cell_type": "markdown",
   "source": [
    "Comme je suis fais IP BAN de Shein avec Selenium je continue le travail avec BS afin de pouvoir trouver un moyen de trouver le type d'un produit à partir de son nom."
   ],
   "metadata": {
    "collapsed": false,
    "pycharm": {
     "name": "#%% md\n"
    }
   }
  },
  {
   "cell_type": "code",
   "execution_count": 81,
   "outputs": [
    {
     "name": "stdout",
     "output_type": "stream",
     "text": [
      "https://fr.shein.com/Men-Clothing-c-2026.html?ici=fr_tab06navbar04&scici=navbar_MenHomePage~~tab06navbar04~~4~~real_2026~~~~0&src_module=topcat&src_tab_page_id=page_home1673351679865&src_identifier=fc%3DMen%60sc%3DV%C3%8ATEMENTS%60tc%3D0%60oc%3D0%60ps%3Dtab06navbar04%60jc%3Dreal_2026&srctype=category&userpath=category-V%C3%8ATEMENTS&child_cat_id=1970&page=1\n",
      "Total Products scrapped:  120\n",
      "\n",
      "https://fr.shein.com/Men-Clothing-c-2026.html?ici=fr_tab06navbar04&scici=navbar_MenHomePage~~tab06navbar04~~4~~real_2026~~~~0&src_module=topcat&src_tab_page_id=page_home1673351679865&src_identifier=fc%3DMen%60sc%3DV%C3%8ATEMENTS%60tc%3D0%60oc%3D0%60ps%3Dtab06navbar04%60jc%3Dreal_2026&srctype=category&userpath=category-V%C3%8ATEMENTS&child_cat_id=1970&page=2\n",
      "Total Products scrapped:  239\n",
      "\n",
      "https://fr.shein.com/Men-Clothing-c-2026.html?ici=fr_tab06navbar04&scici=navbar_MenHomePage~~tab06navbar04~~4~~real_2026~~~~0&src_module=topcat&src_tab_page_id=page_home1673351679865&src_identifier=fc%3DMen%60sc%3DV%C3%8ATEMENTS%60tc%3D0%60oc%3D0%60ps%3Dtab06navbar04%60jc%3Dreal_2026&srctype=category&userpath=category-V%C3%8ATEMENTS&child_cat_id=1970&page=3\n",
      "Total Products scrapped:  359\n",
      "\n",
      "https://fr.shein.com/Men-Clothing-c-2026.html?ici=fr_tab06navbar04&scici=navbar_MenHomePage~~tab06navbar04~~4~~real_2026~~~~0&src_module=topcat&src_tab_page_id=page_home1673351679865&src_identifier=fc%3DMen%60sc%3DV%C3%8ATEMENTS%60tc%3D0%60oc%3D0%60ps%3Dtab06navbar04%60jc%3Dreal_2026&srctype=category&userpath=category-V%C3%8ATEMENTS&child_cat_id=1970&page=4\n",
      "Total Products scrapped:  479\n",
      "\n",
      "https://fr.shein.com/Men-Clothing-c-2026.html?ici=fr_tab06navbar04&scici=navbar_MenHomePage~~tab06navbar04~~4~~real_2026~~~~0&src_module=topcat&src_tab_page_id=page_home1673351679865&src_identifier=fc%3DMen%60sc%3DV%C3%8ATEMENTS%60tc%3D0%60oc%3D0%60ps%3Dtab06navbar04%60jc%3Dreal_2026&srctype=category&userpath=category-V%C3%8ATEMENTS&child_cat_id=1970&page=5\n",
      "Total Products scrapped:  599\n",
      "\n",
      "https://fr.shein.com/Men-Clothing-c-2026.html?ici=fr_tab06navbar04&scici=navbar_MenHomePage~~tab06navbar04~~4~~real_2026~~~~0&src_module=topcat&src_tab_page_id=page_home1673351679865&src_identifier=fc%3DMen%60sc%3DV%C3%8ATEMENTS%60tc%3D0%60oc%3D0%60ps%3Dtab06navbar04%60jc%3Dreal_2026&srctype=category&userpath=category-V%C3%8ATEMENTS&child_cat_id=1970&page=6\n",
      "Total Products scrapped:  719\n",
      "\n",
      "https://fr.shein.com/Men-Clothing-c-2026.html?ici=fr_tab06navbar04&scici=navbar_MenHomePage~~tab06navbar04~~4~~real_2026~~~~0&src_module=topcat&src_tab_page_id=page_home1673351679865&src_identifier=fc%3DMen%60sc%3DV%C3%8ATEMENTS%60tc%3D0%60oc%3D0%60ps%3Dtab06navbar04%60jc%3Dreal_2026&srctype=category&userpath=category-V%C3%8ATEMENTS&child_cat_id=1970&page=7\n",
      "Total Products scrapped:  839\n",
      "\n",
      "https://fr.shein.com/Men-Clothing-c-2026.html?ici=fr_tab06navbar04&scici=navbar_MenHomePage~~tab06navbar04~~4~~real_2026~~~~0&src_module=topcat&src_tab_page_id=page_home1673351679865&src_identifier=fc%3DMen%60sc%3DV%C3%8ATEMENTS%60tc%3D0%60oc%3D0%60ps%3Dtab06navbar04%60jc%3Dreal_2026&srctype=category&userpath=category-V%C3%8ATEMENTS&child_cat_id=1970&page=8\n",
      "Total Products scrapped:  959\n",
      "\n",
      "https://fr.shein.com/Men-Clothing-c-2026.html?ici=fr_tab06navbar04&scici=navbar_MenHomePage~~tab06navbar04~~4~~real_2026~~~~0&src_module=topcat&src_tab_page_id=page_home1673351679865&src_identifier=fc%3DMen%60sc%3DV%C3%8ATEMENTS%60tc%3D0%60oc%3D0%60ps%3Dtab06navbar04%60jc%3Dreal_2026&srctype=category&userpath=category-V%C3%8ATEMENTS&child_cat_id=1970&page=9\n",
      "Total Products scrapped:  1079\n",
      "\n",
      "https://fr.shein.com/Men-Clothing-c-2026.html?ici=fr_tab06navbar04&scici=navbar_MenHomePage~~tab06navbar04~~4~~real_2026~~~~0&src_module=topcat&src_tab_page_id=page_home1673351679865&src_identifier=fc%3DMen%60sc%3DV%C3%8ATEMENTS%60tc%3D0%60oc%3D0%60ps%3Dtab06navbar04%60jc%3Dreal_2026&srctype=category&userpath=category-V%C3%8ATEMENTS&child_cat_id=1970&page=10\n",
      "Total Products scrapped:  1199\n",
      "\n",
      "https://fr.shein.com/Men-Clothing-c-2026.html?ici=fr_tab06navbar04&scici=navbar_MenHomePage~~tab06navbar04~~4~~real_2026~~~~0&src_module=topcat&src_tab_page_id=page_home1673351679865&src_identifier=fc%3DMen%60sc%3DV%C3%8ATEMENTS%60tc%3D0%60oc%3D0%60ps%3Dtab06navbar04%60jc%3Dreal_2026&srctype=category&userpath=category-V%C3%8ATEMENTS&child_cat_id=1970&page=11\n",
      "Total Products scrapped:  1319\n",
      "\n",
      "https://fr.shein.com/Men-Clothing-c-2026.html?ici=fr_tab06navbar04&scici=navbar_MenHomePage~~tab06navbar04~~4~~real_2026~~~~0&src_module=topcat&src_tab_page_id=page_home1673351679865&src_identifier=fc%3DMen%60sc%3DV%C3%8ATEMENTS%60tc%3D0%60oc%3D0%60ps%3Dtab06navbar04%60jc%3Dreal_2026&srctype=category&userpath=category-V%C3%8ATEMENTS&child_cat_id=1970&page=12\n",
      "Total Products scrapped:  1439\n",
      "\n",
      "https://fr.shein.com/Men-Clothing-c-2026.html?ici=fr_tab06navbar04&scici=navbar_MenHomePage~~tab06navbar04~~4~~real_2026~~~~0&src_module=topcat&src_tab_page_id=page_home1673351679865&src_identifier=fc%3DMen%60sc%3DV%C3%8ATEMENTS%60tc%3D0%60oc%3D0%60ps%3Dtab06navbar04%60jc%3Dreal_2026&srctype=category&userpath=category-V%C3%8ATEMENTS&child_cat_id=1970&page=13\n",
      "Total Products scrapped:  1559\n",
      "\n",
      "https://fr.shein.com/Men-Clothing-c-2026.html?ici=fr_tab06navbar04&scici=navbar_MenHomePage~~tab06navbar04~~4~~real_2026~~~~0&src_module=topcat&src_tab_page_id=page_home1673351679865&src_identifier=fc%3DMen%60sc%3DV%C3%8ATEMENTS%60tc%3D0%60oc%3D0%60ps%3Dtab06navbar04%60jc%3Dreal_2026&srctype=category&userpath=category-V%C3%8ATEMENTS&child_cat_id=1970&page=14\n",
      "Total Products scrapped:  1678\n",
      "\n",
      "https://fr.shein.com/Men-Clothing-c-2026.html?ici=fr_tab06navbar04&scici=navbar_MenHomePage~~tab06navbar04~~4~~real_2026~~~~0&src_module=topcat&src_tab_page_id=page_home1673351679865&src_identifier=fc%3DMen%60sc%3DV%C3%8ATEMENTS%60tc%3D0%60oc%3D0%60ps%3Dtab06navbar04%60jc%3Dreal_2026&srctype=category&userpath=category-V%C3%8ATEMENTS&child_cat_id=1970&page=15\n",
      "Total Products scrapped:  1798\n",
      "\n",
      "https://fr.shein.com/Men-Clothing-c-2026.html?ici=fr_tab06navbar04&scici=navbar_MenHomePage~~tab06navbar04~~4~~real_2026~~~~0&src_module=topcat&src_tab_page_id=page_home1673351679865&src_identifier=fc%3DMen%60sc%3DV%C3%8ATEMENTS%60tc%3D0%60oc%3D0%60ps%3Dtab06navbar04%60jc%3Dreal_2026&srctype=category&userpath=category-V%C3%8ATEMENTS&child_cat_id=1970&page=16\n",
      "Total Products scrapped:  1918\n",
      "\n",
      "https://fr.shein.com/Men-Clothing-c-2026.html?ici=fr_tab06navbar04&scici=navbar_MenHomePage~~tab06navbar04~~4~~real_2026~~~~0&src_module=topcat&src_tab_page_id=page_home1673351679865&src_identifier=fc%3DMen%60sc%3DV%C3%8ATEMENTS%60tc%3D0%60oc%3D0%60ps%3Dtab06navbar04%60jc%3Dreal_2026&srctype=category&userpath=category-V%C3%8ATEMENTS&child_cat_id=1970&page=17\n",
      "Total Products scrapped:  2038\n",
      "\n",
      "https://fr.shein.com/Men-Clothing-c-2026.html?ici=fr_tab06navbar04&scici=navbar_MenHomePage~~tab06navbar04~~4~~real_2026~~~~0&src_module=topcat&src_tab_page_id=page_home1673351679865&src_identifier=fc%3DMen%60sc%3DV%C3%8ATEMENTS%60tc%3D0%60oc%3D0%60ps%3Dtab06navbar04%60jc%3Dreal_2026&srctype=category&userpath=category-V%C3%8ATEMENTS&child_cat_id=1970&page=18\n",
      "Total Products scrapped:  2158\n",
      "\n",
      "https://fr.shein.com/Men-Clothing-c-2026.html?ici=fr_tab06navbar04&scici=navbar_MenHomePage~~tab06navbar04~~4~~real_2026~~~~0&src_module=topcat&src_tab_page_id=page_home1673351679865&src_identifier=fc%3DMen%60sc%3DV%C3%8ATEMENTS%60tc%3D0%60oc%3D0%60ps%3Dtab06navbar04%60jc%3Dreal_2026&srctype=category&userpath=category-V%C3%8ATEMENTS&child_cat_id=1970&page=19\n",
      "Total Products scrapped:  2278\n",
      "\n",
      "https://fr.shein.com/Men-Clothing-c-2026.html?ici=fr_tab06navbar04&scici=navbar_MenHomePage~~tab06navbar04~~4~~real_2026~~~~0&src_module=topcat&src_tab_page_id=page_home1673351679865&src_identifier=fc%3DMen%60sc%3DV%C3%8ATEMENTS%60tc%3D0%60oc%3D0%60ps%3Dtab06navbar04%60jc%3Dreal_2026&srctype=category&userpath=category-V%C3%8ATEMENTS&child_cat_id=1970&page=20\n",
      "Total Products scrapped:  2398\n",
      "\n",
      "https://fr.shein.com/Men-Clothing-c-2026.html?ici=fr_tab06navbar04&scici=navbar_MenHomePage~~tab06navbar04~~4~~real_2026~~~~0&src_module=topcat&src_tab_page_id=page_home1673351679865&src_identifier=fc%3DMen%60sc%3DV%C3%8ATEMENTS%60tc%3D0%60oc%3D0%60ps%3Dtab06navbar04%60jc%3Dreal_2026&srctype=category&userpath=category-V%C3%8ATEMENTS&child_cat_id=1970&page=21\n",
      "Total Products scrapped:  2518\n",
      "\n",
      "https://fr.shein.com/Men-Clothing-c-2026.html?ici=fr_tab06navbar04&scici=navbar_MenHomePage~~tab06navbar04~~4~~real_2026~~~~0&src_module=topcat&src_tab_page_id=page_home1673351679865&src_identifier=fc%3DMen%60sc%3DV%C3%8ATEMENTS%60tc%3D0%60oc%3D0%60ps%3Dtab06navbar04%60jc%3Dreal_2026&srctype=category&userpath=category-V%C3%8ATEMENTS&child_cat_id=1970&page=22\n",
      "Total Products scrapped:  2638\n",
      "\n",
      "https://fr.shein.com/Men-Clothing-c-2026.html?ici=fr_tab06navbar04&scici=navbar_MenHomePage~~tab06navbar04~~4~~real_2026~~~~0&src_module=topcat&src_tab_page_id=page_home1673351679865&src_identifier=fc%3DMen%60sc%3DV%C3%8ATEMENTS%60tc%3D0%60oc%3D0%60ps%3Dtab06navbar04%60jc%3Dreal_2026&srctype=category&userpath=category-V%C3%8ATEMENTS&child_cat_id=1970&page=23\n",
      "Total Products scrapped:  2757\n",
      "\n",
      "https://fr.shein.com/Men-Clothing-c-2026.html?ici=fr_tab06navbar04&scici=navbar_MenHomePage~~tab06navbar04~~4~~real_2026~~~~0&src_module=topcat&src_tab_page_id=page_home1673351679865&src_identifier=fc%3DMen%60sc%3DV%C3%8ATEMENTS%60tc%3D0%60oc%3D0%60ps%3Dtab06navbar04%60jc%3Dreal_2026&srctype=category&userpath=category-V%C3%8ATEMENTS&child_cat_id=1970&page=24\n",
      "Total Products scrapped:  2877\n",
      "\n",
      "https://fr.shein.com/Men-Clothing-c-2026.html?ici=fr_tab06navbar04&scici=navbar_MenHomePage~~tab06navbar04~~4~~real_2026~~~~0&src_module=topcat&src_tab_page_id=page_home1673351679865&src_identifier=fc%3DMen%60sc%3DV%C3%8ATEMENTS%60tc%3D0%60oc%3D0%60ps%3Dtab06navbar04%60jc%3Dreal_2026&srctype=category&userpath=category-V%C3%8ATEMENTS&child_cat_id=1970&page=25\n",
      "Total Products scrapped:  2997\n",
      "\n",
      "https://fr.shein.com/Men-Clothing-c-2026.html?ici=fr_tab06navbar04&scici=navbar_MenHomePage~~tab06navbar04~~4~~real_2026~~~~0&src_module=topcat&src_tab_page_id=page_home1673351679865&src_identifier=fc%3DMen%60sc%3DV%C3%8ATEMENTS%60tc%3D0%60oc%3D0%60ps%3Dtab06navbar04%60jc%3Dreal_2026&srctype=category&userpath=category-V%C3%8ATEMENTS&child_cat_id=1970&page=26\n",
      "Total Products scrapped:  3116\n",
      "\n",
      "https://fr.shein.com/Men-Clothing-c-2026.html?ici=fr_tab06navbar04&scici=navbar_MenHomePage~~tab06navbar04~~4~~real_2026~~~~0&src_module=topcat&src_tab_page_id=page_home1673351679865&src_identifier=fc%3DMen%60sc%3DV%C3%8ATEMENTS%60tc%3D0%60oc%3D0%60ps%3Dtab06navbar04%60jc%3Dreal_2026&srctype=category&userpath=category-V%C3%8ATEMENTS&child_cat_id=1970&page=27\n",
      "Total Products scrapped:  3236\n",
      "\n",
      "https://fr.shein.com/Men-Clothing-c-2026.html?ici=fr_tab06navbar04&scici=navbar_MenHomePage~~tab06navbar04~~4~~real_2026~~~~0&src_module=topcat&src_tab_page_id=page_home1673351679865&src_identifier=fc%3DMen%60sc%3DV%C3%8ATEMENTS%60tc%3D0%60oc%3D0%60ps%3Dtab06navbar04%60jc%3Dreal_2026&srctype=category&userpath=category-V%C3%8ATEMENTS&child_cat_id=1970&page=28\n",
      "Total Products scrapped:  3356\n",
      "\n",
      "https://fr.shein.com/Men-Clothing-c-2026.html?ici=fr_tab06navbar04&scici=navbar_MenHomePage~~tab06navbar04~~4~~real_2026~~~~0&src_module=topcat&src_tab_page_id=page_home1673351679865&src_identifier=fc%3DMen%60sc%3DV%C3%8ATEMENTS%60tc%3D0%60oc%3D0%60ps%3Dtab06navbar04%60jc%3Dreal_2026&srctype=category&userpath=category-V%C3%8ATEMENTS&child_cat_id=1970&page=29\n",
      "Total Products scrapped:  3475\n",
      "\n",
      "https://fr.shein.com/Men-Clothing-c-2026.html?ici=fr_tab06navbar04&scici=navbar_MenHomePage~~tab06navbar04~~4~~real_2026~~~~0&src_module=topcat&src_tab_page_id=page_home1673351679865&src_identifier=fc%3DMen%60sc%3DV%C3%8ATEMENTS%60tc%3D0%60oc%3D0%60ps%3Dtab06navbar04%60jc%3Dreal_2026&srctype=category&userpath=category-V%C3%8ATEMENTS&child_cat_id=1970&page=30\n",
      "Total Products scrapped:  3595\n",
      "\n",
      "https://fr.shein.com/Men-Clothing-c-2026.html?ici=fr_tab06navbar04&scici=navbar_MenHomePage~~tab06navbar04~~4~~real_2026~~~~0&src_module=topcat&src_tab_page_id=page_home1673351679865&src_identifier=fc%3DMen%60sc%3DV%C3%8ATEMENTS%60tc%3D0%60oc%3D0%60ps%3Dtab06navbar04%60jc%3Dreal_2026&srctype=category&userpath=category-V%C3%8ATEMENTS&child_cat_id=1970&page=31\n",
      "Total Products scrapped:  3715\n",
      "\n",
      "https://fr.shein.com/Men-Clothing-c-2026.html?ici=fr_tab06navbar04&scici=navbar_MenHomePage~~tab06navbar04~~4~~real_2026~~~~0&src_module=topcat&src_tab_page_id=page_home1673351679865&src_identifier=fc%3DMen%60sc%3DV%C3%8ATEMENTS%60tc%3D0%60oc%3D0%60ps%3Dtab06navbar04%60jc%3Dreal_2026&srctype=category&userpath=category-V%C3%8ATEMENTS&child_cat_id=1970&page=32\n",
      "Total Products scrapped:  3834\n",
      "\n",
      "https://fr.shein.com/Men-Clothing-c-2026.html?ici=fr_tab06navbar04&scici=navbar_MenHomePage~~tab06navbar04~~4~~real_2026~~~~0&src_module=topcat&src_tab_page_id=page_home1673351679865&src_identifier=fc%3DMen%60sc%3DV%C3%8ATEMENTS%60tc%3D0%60oc%3D0%60ps%3Dtab06navbar04%60jc%3Dreal_2026&srctype=category&userpath=category-V%C3%8ATEMENTS&child_cat_id=1970&page=33\n",
      "Total Products scrapped:  3953\n",
      "\n",
      "https://fr.shein.com/Men-Clothing-c-2026.html?ici=fr_tab06navbar04&scici=navbar_MenHomePage~~tab06navbar04~~4~~real_2026~~~~0&src_module=topcat&src_tab_page_id=page_home1673351679865&src_identifier=fc%3DMen%60sc%3DV%C3%8ATEMENTS%60tc%3D0%60oc%3D0%60ps%3Dtab06navbar04%60jc%3Dreal_2026&srctype=category&userpath=category-V%C3%8ATEMENTS&child_cat_id=1970&page=34\n",
      "Total Products scrapped:  4072\n",
      "\n",
      "https://fr.shein.com/Men-Clothing-c-2026.html?ici=fr_tab06navbar04&scici=navbar_MenHomePage~~tab06navbar04~~4~~real_2026~~~~0&src_module=topcat&src_tab_page_id=page_home1673351679865&src_identifier=fc%3DMen%60sc%3DV%C3%8ATEMENTS%60tc%3D0%60oc%3D0%60ps%3Dtab06navbar04%60jc%3Dreal_2026&srctype=category&userpath=category-V%C3%8ATEMENTS&child_cat_id=1970&page=35\n",
      "Total Products scrapped:  4191\n",
      "\n",
      "https://fr.shein.com/Men-Clothing-c-2026.html?ici=fr_tab06navbar04&scici=navbar_MenHomePage~~tab06navbar04~~4~~real_2026~~~~0&src_module=topcat&src_tab_page_id=page_home1673351679865&src_identifier=fc%3DMen%60sc%3DV%C3%8ATEMENTS%60tc%3D0%60oc%3D0%60ps%3Dtab06navbar04%60jc%3Dreal_2026&srctype=category&userpath=category-V%C3%8ATEMENTS&child_cat_id=1970&page=36\n",
      "Total Products scrapped:  4311\n",
      "\n",
      "https://fr.shein.com/Men-Clothing-c-2026.html?ici=fr_tab06navbar04&scici=navbar_MenHomePage~~tab06navbar04~~4~~real_2026~~~~0&src_module=topcat&src_tab_page_id=page_home1673351679865&src_identifier=fc%3DMen%60sc%3DV%C3%8ATEMENTS%60tc%3D0%60oc%3D0%60ps%3Dtab06navbar04%60jc%3Dreal_2026&srctype=category&userpath=category-V%C3%8ATEMENTS&child_cat_id=1970&page=37\n",
      "Total Products scrapped:  4430\n",
      "\n",
      "https://fr.shein.com/Men-Clothing-c-2026.html?ici=fr_tab06navbar04&scici=navbar_MenHomePage~~tab06navbar04~~4~~real_2026~~~~0&src_module=topcat&src_tab_page_id=page_home1673351679865&src_identifier=fc%3DMen%60sc%3DV%C3%8ATEMENTS%60tc%3D0%60oc%3D0%60ps%3Dtab06navbar04%60jc%3Dreal_2026&srctype=category&userpath=category-V%C3%8ATEMENTS&child_cat_id=1970&page=38\n",
      "Total Products scrapped:  4549\n",
      "\n",
      "https://fr.shein.com/Men-Clothing-c-2026.html?ici=fr_tab06navbar04&scici=navbar_MenHomePage~~tab06navbar04~~4~~real_2026~~~~0&src_module=topcat&src_tab_page_id=page_home1673351679865&src_identifier=fc%3DMen%60sc%3DV%C3%8ATEMENTS%60tc%3D0%60oc%3D0%60ps%3Dtab06navbar04%60jc%3Dreal_2026&srctype=category&userpath=category-V%C3%8ATEMENTS&child_cat_id=1970&page=39\n",
      "Total Products scrapped:  4669\n",
      "\n"
     ]
    }
   ],
   "source": [
    "pages = 1\n",
    "temp = []\n",
    "\n",
    "while pages != 40:\n",
    "    url = f\"https://fr.shein.com/Men-Clothing-c-2026.html?ici=fr_tab06navbar04&scici=navbar_MenHomePage~~tab06navbar04~~4~~real_2026~~~~0&src_module=topcat&src_tab_page_id=page_home1673351679865&src_identifier=fc%3DMen%60sc%3DV%C3%8ATEMENTS%60tc%3D0%60oc%3D0%60ps%3Dtab06navbar04%60jc%3Dreal_2026&srctype=category&userpath=category-V%C3%8ATEMENTS&child_cat_id=1970&page={pages}\"\n",
    "    # Récupérer le contenu de la page\n",
    "    page = requests.get(url)\n",
    "    print(url)\n",
    "    # Récupérer le contenu de la page\n",
    "    page = requests.get(url)\n",
    "\n",
    "    # Analyser le contenu de la page avec BeautifulSoup\n",
    "    soup = BeautifulSoup(page.content, 'html.parser')\n",
    "\n",
    "    # Initialiser une liste vide pour stocker les noms de produits\n",
    "    product_names = []\n",
    "\n",
    "    # Trouver tous les éléments qui contiennent les noms des produits\n",
    "    product_name_elements = soup.find_all('a', class_='S-product-item__link_jump')\n",
    "\n",
    "    # Pour chaque élément contenant le nom d'un produit, extraire le nom du produit\n",
    "    for element in product_name_elements:\n",
    "        product_name = element['aria-label']\n",
    "        temp.append(product_name)\n",
    "    print('Total Products scrapped: ',len(temp))\n",
    "    print()\n",
    "    pages = pages + 1\n",
    "\n",
    "df_all = pd.DataFrame(temp, columns=['Nom'])\n",
    "df_all"
   ],
   "metadata": {
    "collapsed": false,
    "pycharm": {
     "name": "#%%\n"
    }
   }
  },
  {
   "cell_type": "code",
   "execution_count": 84,
   "outputs": [
    {
     "data": {
      "text/plain": "                                              Nom\n0     Homme T-shirt à lettres à blocs de couleurs\n1                Homme Chemise unicolore à bouton\n2         SHEIN Homme T-shirt graphique de slogan\n3                   Homme Polo à blocs de couleur\n4            SHEIN Homme T-shirt slogan et floral\n...                                           ...\n4664   Homme Chemise à imprimé aléatoire à bouton\n4665                  Homme Polo blocs de couleur\n4666   Homme T-shirt à lettres à ourlet à rayures\n4667                         Homme Polo à rayures\n4668                             Homme Polo chiné\n\n[4669 rows x 1 columns]",
      "text/html": "<div>\n<style scoped>\n    .dataframe tbody tr th:only-of-type {\n        vertical-align: middle;\n    }\n\n    .dataframe tbody tr th {\n        vertical-align: top;\n    }\n\n    .dataframe thead th {\n        text-align: right;\n    }\n</style>\n<table border=\"1\" class=\"dataframe\">\n  <thead>\n    <tr style=\"text-align: right;\">\n      <th></th>\n      <th>Nom</th>\n    </tr>\n  </thead>\n  <tbody>\n    <tr>\n      <th>0</th>\n      <td>Homme T-shirt à lettres à blocs de couleurs</td>\n    </tr>\n    <tr>\n      <th>1</th>\n      <td>Homme Chemise unicolore à bouton</td>\n    </tr>\n    <tr>\n      <th>2</th>\n      <td>SHEIN Homme T-shirt graphique de slogan</td>\n    </tr>\n    <tr>\n      <th>3</th>\n      <td>Homme Polo à blocs de couleur</td>\n    </tr>\n    <tr>\n      <th>4</th>\n      <td>SHEIN Homme T-shirt slogan et floral</td>\n    </tr>\n    <tr>\n      <th>...</th>\n      <td>...</td>\n    </tr>\n    <tr>\n      <th>4664</th>\n      <td>Homme Chemise à imprimé aléatoire à bouton</td>\n    </tr>\n    <tr>\n      <th>4665</th>\n      <td>Homme Polo blocs de couleur</td>\n    </tr>\n    <tr>\n      <th>4666</th>\n      <td>Homme T-shirt à lettres à ourlet à rayures</td>\n    </tr>\n    <tr>\n      <th>4667</th>\n      <td>Homme Polo à rayures</td>\n    </tr>\n    <tr>\n      <th>4668</th>\n      <td>Homme Polo chiné</td>\n    </tr>\n  </tbody>\n</table>\n<p>4669 rows × 1 columns</p>\n</div>"
     },
     "execution_count": 84,
     "metadata": {},
     "output_type": "execute_result"
    }
   ],
   "source": [
    "df_all"
   ],
   "metadata": {
    "collapsed": false,
    "pycharm": {
     "name": "#%%\n"
    }
   }
  },
  {
   "cell_type": "code",
   "execution_count": 128,
   "outputs": [],
   "source": [
    "shein = pd.read_csv(\"files/shein.csv\")"
   ],
   "metadata": {
    "collapsed": false,
    "pycharm": {
     "name": "#%%\n"
    }
   }
  },
  {
   "cell_type": "code",
   "execution_count": 129,
   "outputs": [
    {
     "data": {
      "text/plain": "                                                    Nom   Prix\n0           Homme T-shirt à liséré contrastant à bouton  10.49\n1               SHEIN Homme T-shirt graphique de slogan   8.99\n2                      Homme 4 pièces T-shirt unicolore  33.49\n3                         Homme Polo à blocs de couleur  13.99\n4                            Homme T-shirt dessin animé   9.99\n...                                                 ...    ...\n4663  Extended Sizes Homme T-shirt à lettres à blocs...   8.50\n4664                       DAZY Homme T-shirt unicolore  10.49\n4665                      DAZY Homme Chemise à carreaux  17.49\n4666              DAZY Homme T-shirt unicolore col rond  14.49\n4667  SHEIN Homme T-shirt à imprimé expression et sl...  12.49\n\n[4668 rows x 2 columns]",
      "text/html": "<div>\n<style scoped>\n    .dataframe tbody tr th:only-of-type {\n        vertical-align: middle;\n    }\n\n    .dataframe tbody tr th {\n        vertical-align: top;\n    }\n\n    .dataframe thead th {\n        text-align: right;\n    }\n</style>\n<table border=\"1\" class=\"dataframe\">\n  <thead>\n    <tr style=\"text-align: right;\">\n      <th></th>\n      <th>Nom</th>\n      <th>Prix</th>\n    </tr>\n  </thead>\n  <tbody>\n    <tr>\n      <th>0</th>\n      <td>Homme T-shirt à liséré contrastant à bouton</td>\n      <td>10.49</td>\n    </tr>\n    <tr>\n      <th>1</th>\n      <td>SHEIN Homme T-shirt graphique de slogan</td>\n      <td>8.99</td>\n    </tr>\n    <tr>\n      <th>2</th>\n      <td>Homme 4 pièces T-shirt unicolore</td>\n      <td>33.49</td>\n    </tr>\n    <tr>\n      <th>3</th>\n      <td>Homme Polo à blocs de couleur</td>\n      <td>13.99</td>\n    </tr>\n    <tr>\n      <th>4</th>\n      <td>Homme T-shirt dessin animé</td>\n      <td>9.99</td>\n    </tr>\n    <tr>\n      <th>...</th>\n      <td>...</td>\n      <td>...</td>\n    </tr>\n    <tr>\n      <th>4663</th>\n      <td>Extended Sizes Homme T-shirt à lettres à blocs...</td>\n      <td>8.50</td>\n    </tr>\n    <tr>\n      <th>4664</th>\n      <td>DAZY Homme T-shirt unicolore</td>\n      <td>10.49</td>\n    </tr>\n    <tr>\n      <th>4665</th>\n      <td>DAZY Homme Chemise à carreaux</td>\n      <td>17.49</td>\n    </tr>\n    <tr>\n      <th>4666</th>\n      <td>DAZY Homme T-shirt unicolore col rond</td>\n      <td>14.49</td>\n    </tr>\n    <tr>\n      <th>4667</th>\n      <td>SHEIN Homme T-shirt à imprimé expression et sl...</td>\n      <td>12.49</td>\n    </tr>\n  </tbody>\n</table>\n<p>4668 rows × 2 columns</p>\n</div>"
     },
     "execution_count": 129,
     "metadata": {},
     "output_type": "execute_result"
    }
   ],
   "source": [
    "shein"
   ],
   "metadata": {
    "collapsed": false,
    "pycharm": {
     "name": "#%%\n"
    }
   }
  },
  {
   "cell_type": "code",
   "execution_count": 150,
   "outputs": [],
   "source": [
    "def get_type(x):\n",
    "    homme = False\n",
    "    is_there_homme = False\n",
    "    is_there_shein = False\n",
    "    SHEIN = False\n",
    "    product_type = 'Undifined'\n",
    "    for elem in x.split():\n",
    "        if homme:\n",
    "            homme = False\n",
    "            if not elem.isdigit():\n",
    "                product_type = elem\n",
    "                is_there_homme = True\n",
    "        if elem == 'Homme':\n",
    "            homme = True\n",
    "\n",
    "    if not is_there_homme:\n",
    "        for elem in x.split():\n",
    "            if SHEIN:\n",
    "                SHEIN = False\n",
    "                if not elem.isdigit():\n",
    "                    product_type = elem\n",
    "                    is_there_shein = True\n",
    "            if elem == 'SHEIN':\n",
    "                SHEIN = True\n",
    "\n",
    "    if not is_there_homme and not is_there_shein:\n",
    "        product_type = 'Undifined'\n",
    "    return product_type"
   ],
   "metadata": {
    "collapsed": false,
    "pycharm": {
     "name": "#%%\n"
    }
   }
  },
  {
   "cell_type": "code",
   "execution_count": 151,
   "outputs": [
    {
     "data": {
      "text/plain": "                                                    Nom   Prix       Type\n0           Homme T-shirt à liséré contrastant à bouton  10.49    T-shirt\n1               SHEIN Homme T-shirt graphique de slogan   8.99    T-shirt\n2                      Homme 4 pièces T-shirt unicolore  33.49  Undifined\n3                         Homme Polo à blocs de couleur  13.99       Polo\n4                            Homme T-shirt dessin animé   9.99    T-shirt\n...                                                 ...    ...        ...\n4663  Extended Sizes Homme T-shirt à lettres à blocs...   8.50    T-shirt\n4664                       DAZY Homme T-shirt unicolore  10.49    T-shirt\n4665                      DAZY Homme Chemise à carreaux  17.49    Chemise\n4666              DAZY Homme T-shirt unicolore col rond  14.49    T-shirt\n4667  SHEIN Homme T-shirt à imprimé expression et sl...  12.49    T-shirt\n\n[4668 rows x 3 columns]",
      "text/html": "<div>\n<style scoped>\n    .dataframe tbody tr th:only-of-type {\n        vertical-align: middle;\n    }\n\n    .dataframe tbody tr th {\n        vertical-align: top;\n    }\n\n    .dataframe thead th {\n        text-align: right;\n    }\n</style>\n<table border=\"1\" class=\"dataframe\">\n  <thead>\n    <tr style=\"text-align: right;\">\n      <th></th>\n      <th>Nom</th>\n      <th>Prix</th>\n      <th>Type</th>\n    </tr>\n  </thead>\n  <tbody>\n    <tr>\n      <th>0</th>\n      <td>Homme T-shirt à liséré contrastant à bouton</td>\n      <td>10.49</td>\n      <td>T-shirt</td>\n    </tr>\n    <tr>\n      <th>1</th>\n      <td>SHEIN Homme T-shirt graphique de slogan</td>\n      <td>8.99</td>\n      <td>T-shirt</td>\n    </tr>\n    <tr>\n      <th>2</th>\n      <td>Homme 4 pièces T-shirt unicolore</td>\n      <td>33.49</td>\n      <td>Undifined</td>\n    </tr>\n    <tr>\n      <th>3</th>\n      <td>Homme Polo à blocs de couleur</td>\n      <td>13.99</td>\n      <td>Polo</td>\n    </tr>\n    <tr>\n      <th>4</th>\n      <td>Homme T-shirt dessin animé</td>\n      <td>9.99</td>\n      <td>T-shirt</td>\n    </tr>\n    <tr>\n      <th>...</th>\n      <td>...</td>\n      <td>...</td>\n      <td>...</td>\n    </tr>\n    <tr>\n      <th>4663</th>\n      <td>Extended Sizes Homme T-shirt à lettres à blocs...</td>\n      <td>8.50</td>\n      <td>T-shirt</td>\n    </tr>\n    <tr>\n      <th>4664</th>\n      <td>DAZY Homme T-shirt unicolore</td>\n      <td>10.49</td>\n      <td>T-shirt</td>\n    </tr>\n    <tr>\n      <th>4665</th>\n      <td>DAZY Homme Chemise à carreaux</td>\n      <td>17.49</td>\n      <td>Chemise</td>\n    </tr>\n    <tr>\n      <th>4666</th>\n      <td>DAZY Homme T-shirt unicolore col rond</td>\n      <td>14.49</td>\n      <td>T-shirt</td>\n    </tr>\n    <tr>\n      <th>4667</th>\n      <td>SHEIN Homme T-shirt à imprimé expression et sl...</td>\n      <td>12.49</td>\n      <td>T-shirt</td>\n    </tr>\n  </tbody>\n</table>\n<p>4668 rows × 3 columns</p>\n</div>"
     },
     "execution_count": 151,
     "metadata": {},
     "output_type": "execute_result"
    }
   ],
   "source": [
    "shein['Type'] = shein.Nom.apply(get_type)\n",
    "shein"
   ],
   "metadata": {
    "collapsed": false,
    "pycharm": {
     "name": "#%%\n"
    }
   }
  },
  {
   "cell_type": "code",
   "execution_count": 152,
   "outputs": [
    {
     "data": {
      "text/plain": "T-shirt        2412\nChemise        1274\nPolo            587\nUndifined       211\nTop              89\nUNISEX           35\nKimono           18\nTops             16\nHomme            14\nMaillot           2\nMen               2\nKurta             1\nSweat-shirt       1\nBASICS            1\nX                 1\nJupe              1\nBlouse            1\npoupée            1\nDébardeur         1\nName: Type, dtype: int64"
     },
     "execution_count": 152,
     "metadata": {},
     "output_type": "execute_result"
    }
   ],
   "source": [
    "shein.Type.value_counts()"
   ],
   "metadata": {
    "collapsed": false,
    "pycharm": {
     "name": "#%%\n"
    }
   }
  }
 ],
 "metadata": {
  "kernelspec": {
   "display_name": "Python 3",
   "language": "python",
   "name": "python3"
  },
  "language_info": {
   "codemirror_mode": {
    "name": "ipython",
    "version": 2
   },
   "file_extension": ".py",
   "mimetype": "text/x-python",
   "name": "python",
   "nbconvert_exporter": "python",
   "pygments_lexer": "ipython2",
   "version": "2.7.6"
  }
 },
 "nbformat": 4,
 "nbformat_minor": 0
}
